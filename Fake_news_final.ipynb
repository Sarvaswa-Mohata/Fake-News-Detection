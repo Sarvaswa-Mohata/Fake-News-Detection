{
  "metadata": {
    "kernelspec": {
      "display_name": "Python 3",
      "name": "python3"
    },
    "language_info": {
      "name": "python",
      "version": "3.10.13",
      "mimetype": "text/x-python",
      "codemirror_mode": {
        "name": "ipython",
        "version": 3
      },
      "pygments_lexer": "ipython3",
      "nbconvert_exporter": "python",
      "file_extension": ".py"
    },
    "kaggle": {
      "accelerator": "none",
      "dataSources": [
        {
          "sourceId": 159129,
          "sourceType": "datasetVersion",
          "datasetId": 72366
        }
      ],
      "dockerImageVersionId": 30732,
      "isInternetEnabled": false,
      "language": "python",
      "sourceType": "notebook",
      "isGpuEnabled": false
    },
    "colab": {
      "name": "Fake_news_final",
      "provenance": [],
      "gpuType": "T4",
      "include_colab_link": true
    },
    "accelerator": "GPU"
  },
  "nbformat_minor": 0,
  "nbformat": 4,
  "cells": [
    {
      "cell_type": "markdown",
      "metadata": {
        "id": "view-in-github",
        "colab_type": "text"
      },
      "source": [
        "<a href=\"https://colab.research.google.com/github/Sarvaswa-Mohata/Fake-News-Detection/blob/main/Fake_news_final.ipynb\" target=\"_parent\"><img src=\"https://colab.research.google.com/assets/colab-badge.svg\" alt=\"Open In Colab\"/></a>"
      ]
    },
    {
      "source": [
        "\n",
        "# IMPORTANT: RUN THIS CELL IN ORDER TO IMPORT YOUR KAGGLE DATA SOURCES\n",
        "# TO THE CORRECT LOCATION (/kaggle/input) IN YOUR NOTEBOOK,\n",
        "# THEN FEEL FREE TO DELETE THIS CELL.\n",
        "# NOTE: THIS NOTEBOOK ENVIRONMENT DIFFERS FROM KAGGLE'S PYTHON\n",
        "# ENVIRONMENT SO THERE MAY BE MISSING LIBRARIES USED BY YOUR\n",
        "# NOTEBOOK.\n",
        "\n",
        "import os\n",
        "import sys\n",
        "from tempfile import NamedTemporaryFile\n",
        "from urllib.request import urlopen\n",
        "from urllib.parse import unquote, urlparse\n",
        "from urllib.error import HTTPError\n",
        "from zipfile import ZipFile\n",
        "import tarfile\n",
        "import shutil\n",
        "\n",
        "CHUNK_SIZE = 40960\n",
        "DATA_SOURCE_MAPPING = 'fakenewsnet:https%3A%2F%2Fstorage.googleapis.com%2Fkaggle-data-sets%2F72366%2F159129%2Fbundle%2Farchive.zip%3FX-Goog-Algorithm%3DGOOG4-RSA-SHA256%26X-Goog-Credential%3Dgcp-kaggle-com%2540kaggle-161607.iam.gserviceaccount.com%252F20240615%252Fauto%252Fstorage%252Fgoog4_request%26X-Goog-Date%3D20240615T141247Z%26X-Goog-Expires%3D259200%26X-Goog-SignedHeaders%3Dhost%26X-Goog-Signature%3D65a2fa7c9b77bd5be7a930befb0bccb8acdbd81325af18f0851d5b906718e2ac5204412511cb40651ef42cf8a7d38494b6220db809ed1ef63c68b835c7fca61550814203ea67c9d9ec819ddb541caa2f29ec81ce0aa8c4a0f38ce66a200bf3471a48f894182ecbf0cbf24744b0b3797dd47357d2dae8aff36fa56a6fd5a97d354e04938b72b6fc49cc62696fa698a3daa610a3b47d57f88c175738f6f591be344ddd528d1bf53d1323448cda8042bacae421fca49af7d8888dfaddb4ae86d99660a81bb41466836af44788ef183533310bae2debe166b1692cf7a5cbb8b3b8a28233d7079dec8ed4e7b241c08c38ce22219575e9f306c3d85d07488c6ef0bd14'\n",
        "\n",
        "KAGGLE_INPUT_PATH='/kaggle/input'\n",
        "KAGGLE_WORKING_PATH='/kaggle/working'\n",
        "KAGGLE_SYMLINK='kaggle'\n",
        "\n",
        "!umount /kaggle/input/ 2> /dev/null\n",
        "shutil.rmtree('/kaggle/input', ignore_errors=True)\n",
        "os.makedirs(KAGGLE_INPUT_PATH, 0o777, exist_ok=True)\n",
        "os.makedirs(KAGGLE_WORKING_PATH, 0o777, exist_ok=True)\n",
        "\n",
        "try:\n",
        "  os.symlink(KAGGLE_INPUT_PATH, os.path.join(\"..\", 'input'), target_is_directory=True)\n",
        "except FileExistsError:\n",
        "  pass\n",
        "try:\n",
        "  os.symlink(KAGGLE_WORKING_PATH, os.path.join(\"..\", 'working'), target_is_directory=True)\n",
        "except FileExistsError:\n",
        "  pass\n",
        "\n",
        "for data_source_mapping in DATA_SOURCE_MAPPING.split(','):\n",
        "    directory, download_url_encoded = data_source_mapping.split(':')\n",
        "    download_url = unquote(download_url_encoded)\n",
        "    filename = urlparse(download_url).path\n",
        "    destination_path = os.path.join(KAGGLE_INPUT_PATH, directory)\n",
        "    try:\n",
        "        with urlopen(download_url) as fileres, NamedTemporaryFile() as tfile:\n",
        "            total_length = fileres.headers['content-length']\n",
        "            print(f'Downloading {directory}, {total_length} bytes compressed')\n",
        "            dl = 0\n",
        "            data = fileres.read(CHUNK_SIZE)\n",
        "            while len(data) > 0:\n",
        "                dl += len(data)\n",
        "                tfile.write(data)\n",
        "                done = int(50 * dl / int(total_length))\n",
        "                sys.stdout.write(f\"\\r[{'=' * done}{' ' * (50-done)}] {dl} bytes downloaded\")\n",
        "                sys.stdout.flush()\n",
        "                data = fileres.read(CHUNK_SIZE)\n",
        "            if filename.endswith('.zip'):\n",
        "              with ZipFile(tfile) as zfile:\n",
        "                zfile.extractall(destination_path)\n",
        "            else:\n",
        "              with tarfile.open(tfile.name) as tarfile:\n",
        "                tarfile.extractall(destination_path)\n",
        "            print(f'\\nDownloaded and uncompressed: {directory}')\n",
        "    except HTTPError as e:\n",
        "        print(f'Failed to load (likely expired) {download_url} to path {destination_path}')\n",
        "        continue\n",
        "    except OSError as e:\n",
        "        print(f'Failed to load {download_url} to path {destination_path}')\n",
        "        continue\n",
        "\n",
        "print('Data source import complete.')\n"
      ],
      "metadata": {
        "id": "3B0h7owmPm_L",
        "outputId": "5d86c318-b96a-438d-bed2-c668cac4d791",
        "colab": {
          "base_uri": "https://localhost:8080/"
        }
      },
      "cell_type": "code",
      "outputs": [
        {
          "output_type": "stream",
          "name": "stdout",
          "text": [
            "Downloading fakenewsnet, 17409594 bytes compressed\n",
            "[==================================================] 17409594 bytes downloaded\n",
            "Downloaded and uncompressed: fakenewsnet\n",
            "Data source import complete.\n"
          ]
        }
      ],
      "execution_count": 87
    },
    {
      "cell_type": "code",
      "source": [
        "# This Python 3 environment comes with many helpful analytics libraries installed\n",
        "# It is defined by the kaggle/python Docker image: https://github.com/kaggle/docker-python\n",
        "# For example, here's several helpful packages to load\n",
        "\n",
        "import numpy as np # linear algebra\n",
        "import pandas as pd # data processing, CSV file I/O (e.g. pd.read_csv)\n",
        "\n",
        "# Input data files are available in the read-only \"../input/\" directory\n",
        "# For example, running this (by clicking run or pressing Shift+Enter) will list all files under the input directory\n",
        "\n",
        "import os\n",
        "for dirname, _, filenames in os.walk('/kaggle/input'):\n",
        "    for filename in filenames:\n",
        "        print(os.path.join(dirname, filename))\n",
        "\n",
        "# You can write up to 20GB to the current directory (/kaggle/working/) that gets preserved as output when you create a version using \"Save & Run All\"\n",
        "# You can also write temporary files to /kaggle/temp/, but they won't be saved outside of the current session"
      ],
      "metadata": {
        "_uuid": "8f2839f25d086af736a60e9eeb907d3b93b6e0e5",
        "_cell_guid": "b1076dfc-b9ad-4769-8c92-a6c4dae69d19",
        "execution": {
          "iopub.status.busy": "2024-06-15T14:10:35.737849Z",
          "iopub.execute_input": "2024-06-15T14:10:35.738672Z",
          "iopub.status.idle": "2024-06-15T14:10:35.759782Z",
          "shell.execute_reply.started": "2024-06-15T14:10:35.738633Z",
          "shell.execute_reply": "2024-06-15T14:10:35.758442Z"
        },
        "trusted": true,
        "id": "05UNwUHBPm_P",
        "outputId": "b92ed650-f80b-4987-f5d3-59ac817d0ba3",
        "colab": {
          "base_uri": "https://localhost:8080/"
        }
      },
      "execution_count": 88,
      "outputs": [
        {
          "output_type": "stream",
          "name": "stdout",
          "text": [
            "/kaggle/input/fakenewsnet/BuzzFeedUser.txt\n",
            "/kaggle/input/fakenewsnet/PolitiFactNewsUser.txt\n",
            "/kaggle/input/fakenewsnet/BuzzFeedNewsUser.txt\n",
            "/kaggle/input/fakenewsnet/PolitiFactUserFeature.mat\n",
            "/kaggle/input/fakenewsnet/BuzzFeedUserFeature.mat\n",
            "/kaggle/input/fakenewsnet/PolitiFactUserUser.txt\n",
            "/kaggle/input/fakenewsnet/BuzzFeedNews.txt\n",
            "/kaggle/input/fakenewsnet/BuzzFeedUserUser.txt\n",
            "/kaggle/input/fakenewsnet/PolitiFactNews.txt\n",
            "/kaggle/input/fakenewsnet/BuzzFeed_fake_news_content.csv\n",
            "/kaggle/input/fakenewsnet/BuzzFeed_real_news_content.csv\n",
            "/kaggle/input/fakenewsnet/PolitiFact_real_news_content.csv\n",
            "/kaggle/input/fakenewsnet/PolitiFactUser.txt\n",
            "/kaggle/input/fakenewsnet/PolitiFact_fake_news_content.csv\n"
          ]
        }
      ]
    },
    {
      "cell_type": "code",
      "source": [
        "import numpy as np\n",
        "import pandas as pd\n",
        "import seaborn as sns\n",
        "import matplotlib.pyplot as plt\n",
        "%matplotlib inline\n",
        "import string\n",
        "import nltk\n",
        "import re\n",
        "from nltk.corpus import stopwords\n",
        "from nltk.stem.porter import PorterStemmer\n",
        "from nltk import word_tokenize\n",
        "from nltk.tokenize import WhitespaceTokenizer\n",
        "from sklearn.feature_extraction.text import CountVectorizer\n",
        "from sklearn.feature_extraction.text import TfidfTransformer\n",
        "from sklearn.naive_bayes import MultinomialNB\n",
        "from sklearn.pipeline import Pipeline\n",
        "from sklearn.ensemble import RandomForestClassifier\n",
        "from sklearn.linear_model import PassiveAggressiveClassifier\n",
        "from sklearn.model_selection import train_test_split\n",
        "from sklearn.metrics import classification_report,confusion_matrix,accuracy_score"
      ],
      "metadata": {
        "execution": {
          "iopub.status.busy": "2024-06-15T14:10:35.762449Z",
          "iopub.execute_input": "2024-06-15T14:10:35.762904Z",
          "iopub.status.idle": "2024-06-15T14:10:35.779593Z",
          "shell.execute_reply.started": "2024-06-15T14:10:35.762863Z",
          "shell.execute_reply": "2024-06-15T14:10:35.77744Z"
        },
        "trusted": true,
        "id": "I-_BpP5yPm_R"
      },
      "execution_count": 89,
      "outputs": []
    },
    {
      "cell_type": "code",
      "source": [
        "df_fake = pd.read_csv('/kaggle/input/fakenewsnet/BuzzFeed_fake_news_content.csv')\n",
        "df_fake2 = pd.read_csv('/kaggle/input/fakenewsnet/PolitiFact_fake_news_content.csv')\n",
        "df_fake = pd.concat([df_fake,df_fake2],axis=0)\n",
        "df_fake['category']=0\n",
        "df_real = pd.read_csv('/kaggle/input/fakenewsnet/BuzzFeed_real_news_content.csv')\n",
        "df_real2 = pd.read_csv('/kaggle/input/fakenewsnet/PolitiFact_real_news_content.csv')\n",
        "df_real = pd.concat([df_real,df_real2],axis=0)\n",
        "df_real['category']=1"
      ],
      "metadata": {
        "execution": {
          "iopub.status.busy": "2024-06-15T14:10:35.781134Z",
          "iopub.execute_input": "2024-06-15T14:10:35.781494Z",
          "iopub.status.idle": "2024-06-15T14:10:35.868112Z",
          "shell.execute_reply.started": "2024-06-15T14:10:35.781464Z",
          "shell.execute_reply": "2024-06-15T14:10:35.866813Z"
        },
        "trusted": true,
        "id": "3neYYYsoPm_S"
      },
      "execution_count": 90,
      "outputs": []
    },
    {
      "cell_type": "code",
      "source": [
        "df_fake.shape"
      ],
      "metadata": {
        "execution": {
          "iopub.status.busy": "2024-06-15T14:10:35.869411Z",
          "iopub.execute_input": "2024-06-15T14:10:35.869742Z",
          "iopub.status.idle": "2024-06-15T14:10:35.877795Z",
          "shell.execute_reply.started": "2024-06-15T14:10:35.869714Z",
          "shell.execute_reply": "2024-06-15T14:10:35.876523Z"
        },
        "trusted": true,
        "id": "ONrnlU8PPm_T",
        "outputId": "57e369a8-b0bb-49df-f7fa-f42e31d363cc",
        "colab": {
          "base_uri": "https://localhost:8080/"
        }
      },
      "execution_count": 91,
      "outputs": [
        {
          "output_type": "execute_result",
          "data": {
            "text/plain": [
              "(211, 13)"
            ]
          },
          "metadata": {},
          "execution_count": 91
        }
      ]
    },
    {
      "cell_type": "code",
      "source": [
        "df_real.shape"
      ],
      "metadata": {
        "execution": {
          "iopub.status.busy": "2024-06-15T14:10:35.881616Z",
          "iopub.execute_input": "2024-06-15T14:10:35.882063Z",
          "iopub.status.idle": "2024-06-15T14:10:35.892213Z",
          "shell.execute_reply.started": "2024-06-15T14:10:35.88202Z",
          "shell.execute_reply": "2024-06-15T14:10:35.890817Z"
        },
        "trusted": true,
        "id": "w7NW4bVXPm_U",
        "outputId": "69a1338e-5728-4f8d-c820-4419d3245a21",
        "colab": {
          "base_uri": "https://localhost:8080/"
        }
      },
      "execution_count": 92,
      "outputs": [
        {
          "output_type": "execute_result",
          "data": {
            "text/plain": [
              "(211, 13)"
            ]
          },
          "metadata": {},
          "execution_count": 92
        }
      ]
    },
    {
      "cell_type": "code",
      "source": [
        "df = pd.concat([df_real,df_fake], axis=0)"
      ],
      "metadata": {
        "execution": {
          "iopub.status.busy": "2024-06-15T14:10:35.893696Z",
          "iopub.execute_input": "2024-06-15T14:10:35.894061Z",
          "iopub.status.idle": "2024-06-15T14:10:35.907895Z",
          "shell.execute_reply.started": "2024-06-15T14:10:35.89402Z",
          "shell.execute_reply": "2024-06-15T14:10:35.905936Z"
        },
        "trusted": true,
        "id": "Xgnsi9ljPm_U"
      },
      "execution_count": 93,
      "outputs": []
    },
    {
      "cell_type": "code",
      "source": [
        "df.head(5)"
      ],
      "metadata": {
        "execution": {
          "iopub.status.busy": "2024-06-15T14:10:35.909273Z",
          "iopub.execute_input": "2024-06-15T14:10:35.91045Z",
          "iopub.status.idle": "2024-06-15T14:10:35.937072Z",
          "shell.execute_reply.started": "2024-06-15T14:10:35.9104Z",
          "shell.execute_reply": "2024-06-15T14:10:35.935456Z"
        },
        "trusted": true,
        "id": "4of8MEW7Pm_U",
        "outputId": "c7c44559-6b94-4d89-8068-0056189e93ba",
        "colab": {
          "base_uri": "https://localhost:8080/",
          "height": 660
        }
      },
      "execution_count": 94,
      "outputs": [
        {
          "output_type": "execute_result",
          "data": {
            "text/plain": [
              "                id                                              title  \\\n",
              "0   Real_1-Webpage  Another Terrorist Attack in NYC…Why Are we STI...   \n",
              "1  Real_10-Webpage  Donald Trump: Drugs a 'Very, Very Big Factor' ...   \n",
              "2  Real_11-Webpage  Obama To UN: ‘Giving Up Liberty, Enhances Secu...   \n",
              "3  Real_12-Webpage  Trump vs. Clinton: A Fundamental Clash over Ho...   \n",
              "4  Real_13-Webpage  President Obama Vetoes 9/11 Victims Bill, Sett...   \n",
              "\n",
              "                                                text  \\\n",
              "0  On Saturday, September 17 at 8:30 pm EST, an e...   \n",
              "1  Less than a day after protests over the police...   \n",
              "2  Obama To UN: ‘Giving Up Liberty, Enhances Secu...   \n",
              "3  Getty Images Wealth Of Nations Trump vs. Clint...   \n",
              "4  President Obama today vetoed a bill that would...   \n",
              "\n",
              "                                                 url  \\\n",
              "0  http://eaglerising.com/36942/another-terrorist...   \n",
              "1                             http://abcn.ws/2d4lNn9   \n",
              "2  http://rightwingnews.com/barack-obama/obama-un...   \n",
              "3                           http://politi.co/2de2qs0   \n",
              "4                             http://abcn.ws/2dh2NFs   \n",
              "\n",
              "                                             top_img  \\\n",
              "0  http://eaglerising.com/wp-content/uploads/2016...   \n",
              "1  http://a.abcnews.com/images/Politics/AP_donald...   \n",
              "2  http://rightwingnews.com/wp-content/uploads/20...   \n",
              "3  http://static.politico.com/e9/11/6144cdc24e319...   \n",
              "4  http://a.abcnews.com/images/US/AP_Obama_BM_201...   \n",
              "\n",
              "                                            authors                    source  \\\n",
              "0                   View All Posts,Leonora Cravotta    http://eaglerising.com   \n",
              "1       More Candace,Adam Kelsey,Abc News,More Adam            http://abcn.ws   \n",
              "2                                       Cassy Fiano  http://rightwingnews.com   \n",
              "3        Jack Shafer,Erick Trickey,Zachary Karabell          http://politi.co   \n",
              "4  John Parkinson,More John,Abc News,More Alexander            http://abcn.ws   \n",
              "\n",
              "               publish_date                                     movies  \\\n",
              "0  {'$date': 1474528230000}                                        NaN   \n",
              "1                       NaN                                        NaN   \n",
              "2  {'$date': 1474476044000}  https://www.youtube.com/embed/ji6pl5Vwrvk   \n",
              "3  {'$date': 1474974420000}                                        NaN   \n",
              "4                       NaN                                        NaN   \n",
              "\n",
              "                                              images  \\\n",
              "0  http://constitution.com/wp-content/uploads/201...   \n",
              "1  http://www.googleadservices.com/pagead/convers...   \n",
              "2  http://rightwingnews.com/wp-content/uploads/20...   \n",
              "3  https://static.politico.com/dims4/default/8a1c...   \n",
              "4  http://www.googleadservices.com/pagead/convers...   \n",
              "\n",
              "                                      canonical_link  \\\n",
              "0  http://eaglerising.com/36942/another-terrorist...   \n",
              "1  http://abcnews.go.com/Politics/donald-trump-dr...   \n",
              "2  http://rightwingnews.com/barack-obama/obama-un...   \n",
              "3  http://www.politico.com/magazine/story/2016/09...   \n",
              "4  http://abcnews.go.com/Politics/president-obama...   \n",
              "\n",
              "                                           meta_data  category  \n",
              "0  {\"description\": \"\\u201cWe believe at this poin...         1  \n",
              "1  {\"fb_title\": \"Trump: Drugs a 'Very, Very Big F...         1  \n",
              "2  {\"googlebot\": \"noimageindex\", \"og\": {\"site_nam...         1  \n",
              "3  {\"description\": \"He sees it as zero-sum. She b...         1  \n",
              "4  {\"fb_title\": \"President Obama Vetoes 9/11 Vict...         1  "
            ],
            "text/html": [
              "\n",
              "  <div id=\"df-0c647b9a-633c-45e6-91a5-9854d85c18a8\" class=\"colab-df-container\">\n",
              "    <div>\n",
              "<style scoped>\n",
              "    .dataframe tbody tr th:only-of-type {\n",
              "        vertical-align: middle;\n",
              "    }\n",
              "\n",
              "    .dataframe tbody tr th {\n",
              "        vertical-align: top;\n",
              "    }\n",
              "\n",
              "    .dataframe thead th {\n",
              "        text-align: right;\n",
              "    }\n",
              "</style>\n",
              "<table border=\"1\" class=\"dataframe\">\n",
              "  <thead>\n",
              "    <tr style=\"text-align: right;\">\n",
              "      <th></th>\n",
              "      <th>id</th>\n",
              "      <th>title</th>\n",
              "      <th>text</th>\n",
              "      <th>url</th>\n",
              "      <th>top_img</th>\n",
              "      <th>authors</th>\n",
              "      <th>source</th>\n",
              "      <th>publish_date</th>\n",
              "      <th>movies</th>\n",
              "      <th>images</th>\n",
              "      <th>canonical_link</th>\n",
              "      <th>meta_data</th>\n",
              "      <th>category</th>\n",
              "    </tr>\n",
              "  </thead>\n",
              "  <tbody>\n",
              "    <tr>\n",
              "      <th>0</th>\n",
              "      <td>Real_1-Webpage</td>\n",
              "      <td>Another Terrorist Attack in NYC…Why Are we STI...</td>\n",
              "      <td>On Saturday, September 17 at 8:30 pm EST, an e...</td>\n",
              "      <td>http://eaglerising.com/36942/another-terrorist...</td>\n",
              "      <td>http://eaglerising.com/wp-content/uploads/2016...</td>\n",
              "      <td>View All Posts,Leonora Cravotta</td>\n",
              "      <td>http://eaglerising.com</td>\n",
              "      <td>{'$date': 1474528230000}</td>\n",
              "      <td>NaN</td>\n",
              "      <td>http://constitution.com/wp-content/uploads/201...</td>\n",
              "      <td>http://eaglerising.com/36942/another-terrorist...</td>\n",
              "      <td>{\"description\": \"\\u201cWe believe at this poin...</td>\n",
              "      <td>1</td>\n",
              "    </tr>\n",
              "    <tr>\n",
              "      <th>1</th>\n",
              "      <td>Real_10-Webpage</td>\n",
              "      <td>Donald Trump: Drugs a 'Very, Very Big Factor' ...</td>\n",
              "      <td>Less than a day after protests over the police...</td>\n",
              "      <td>http://abcn.ws/2d4lNn9</td>\n",
              "      <td>http://a.abcnews.com/images/Politics/AP_donald...</td>\n",
              "      <td>More Candace,Adam Kelsey,Abc News,More Adam</td>\n",
              "      <td>http://abcn.ws</td>\n",
              "      <td>NaN</td>\n",
              "      <td>NaN</td>\n",
              "      <td>http://www.googleadservices.com/pagead/convers...</td>\n",
              "      <td>http://abcnews.go.com/Politics/donald-trump-dr...</td>\n",
              "      <td>{\"fb_title\": \"Trump: Drugs a 'Very, Very Big F...</td>\n",
              "      <td>1</td>\n",
              "    </tr>\n",
              "    <tr>\n",
              "      <th>2</th>\n",
              "      <td>Real_11-Webpage</td>\n",
              "      <td>Obama To UN: ‘Giving Up Liberty, Enhances Secu...</td>\n",
              "      <td>Obama To UN: ‘Giving Up Liberty, Enhances Secu...</td>\n",
              "      <td>http://rightwingnews.com/barack-obama/obama-un...</td>\n",
              "      <td>http://rightwingnews.com/wp-content/uploads/20...</td>\n",
              "      <td>Cassy Fiano</td>\n",
              "      <td>http://rightwingnews.com</td>\n",
              "      <td>{'$date': 1474476044000}</td>\n",
              "      <td>https://www.youtube.com/embed/ji6pl5Vwrvk</td>\n",
              "      <td>http://rightwingnews.com/wp-content/uploads/20...</td>\n",
              "      <td>http://rightwingnews.com/barack-obama/obama-un...</td>\n",
              "      <td>{\"googlebot\": \"noimageindex\", \"og\": {\"site_nam...</td>\n",
              "      <td>1</td>\n",
              "    </tr>\n",
              "    <tr>\n",
              "      <th>3</th>\n",
              "      <td>Real_12-Webpage</td>\n",
              "      <td>Trump vs. Clinton: A Fundamental Clash over Ho...</td>\n",
              "      <td>Getty Images Wealth Of Nations Trump vs. Clint...</td>\n",
              "      <td>http://politi.co/2de2qs0</td>\n",
              "      <td>http://static.politico.com/e9/11/6144cdc24e319...</td>\n",
              "      <td>Jack Shafer,Erick Trickey,Zachary Karabell</td>\n",
              "      <td>http://politi.co</td>\n",
              "      <td>{'$date': 1474974420000}</td>\n",
              "      <td>NaN</td>\n",
              "      <td>https://static.politico.com/dims4/default/8a1c...</td>\n",
              "      <td>http://www.politico.com/magazine/story/2016/09...</td>\n",
              "      <td>{\"description\": \"He sees it as zero-sum. She b...</td>\n",
              "      <td>1</td>\n",
              "    </tr>\n",
              "    <tr>\n",
              "      <th>4</th>\n",
              "      <td>Real_13-Webpage</td>\n",
              "      <td>President Obama Vetoes 9/11 Victims Bill, Sett...</td>\n",
              "      <td>President Obama today vetoed a bill that would...</td>\n",
              "      <td>http://abcn.ws/2dh2NFs</td>\n",
              "      <td>http://a.abcnews.com/images/US/AP_Obama_BM_201...</td>\n",
              "      <td>John Parkinson,More John,Abc News,More Alexander</td>\n",
              "      <td>http://abcn.ws</td>\n",
              "      <td>NaN</td>\n",
              "      <td>NaN</td>\n",
              "      <td>http://www.googleadservices.com/pagead/convers...</td>\n",
              "      <td>http://abcnews.go.com/Politics/president-obama...</td>\n",
              "      <td>{\"fb_title\": \"President Obama Vetoes 9/11 Vict...</td>\n",
              "      <td>1</td>\n",
              "    </tr>\n",
              "  </tbody>\n",
              "</table>\n",
              "</div>\n",
              "    <div class=\"colab-df-buttons\">\n",
              "\n",
              "  <div class=\"colab-df-container\">\n",
              "    <button class=\"colab-df-convert\" onclick=\"convertToInteractive('df-0c647b9a-633c-45e6-91a5-9854d85c18a8')\"\n",
              "            title=\"Convert this dataframe to an interactive table.\"\n",
              "            style=\"display:none;\">\n",
              "\n",
              "  <svg xmlns=\"http://www.w3.org/2000/svg\" height=\"24px\" viewBox=\"0 -960 960 960\">\n",
              "    <path d=\"M120-120v-720h720v720H120Zm60-500h600v-160H180v160Zm220 220h160v-160H400v160Zm0 220h160v-160H400v160ZM180-400h160v-160H180v160Zm440 0h160v-160H620v160ZM180-180h160v-160H180v160Zm440 0h160v-160H620v160Z\"/>\n",
              "  </svg>\n",
              "    </button>\n",
              "\n",
              "  <style>\n",
              "    .colab-df-container {\n",
              "      display:flex;\n",
              "      gap: 12px;\n",
              "    }\n",
              "\n",
              "    .colab-df-convert {\n",
              "      background-color: #E8F0FE;\n",
              "      border: none;\n",
              "      border-radius: 50%;\n",
              "      cursor: pointer;\n",
              "      display: none;\n",
              "      fill: #1967D2;\n",
              "      height: 32px;\n",
              "      padding: 0 0 0 0;\n",
              "      width: 32px;\n",
              "    }\n",
              "\n",
              "    .colab-df-convert:hover {\n",
              "      background-color: #E2EBFA;\n",
              "      box-shadow: 0px 1px 2px rgba(60, 64, 67, 0.3), 0px 1px 3px 1px rgba(60, 64, 67, 0.15);\n",
              "      fill: #174EA6;\n",
              "    }\n",
              "\n",
              "    .colab-df-buttons div {\n",
              "      margin-bottom: 4px;\n",
              "    }\n",
              "\n",
              "    [theme=dark] .colab-df-convert {\n",
              "      background-color: #3B4455;\n",
              "      fill: #D2E3FC;\n",
              "    }\n",
              "\n",
              "    [theme=dark] .colab-df-convert:hover {\n",
              "      background-color: #434B5C;\n",
              "      box-shadow: 0px 1px 3px 1px rgba(0, 0, 0, 0.15);\n",
              "      filter: drop-shadow(0px 1px 2px rgba(0, 0, 0, 0.3));\n",
              "      fill: #FFFFFF;\n",
              "    }\n",
              "  </style>\n",
              "\n",
              "    <script>\n",
              "      const buttonEl =\n",
              "        document.querySelector('#df-0c647b9a-633c-45e6-91a5-9854d85c18a8 button.colab-df-convert');\n",
              "      buttonEl.style.display =\n",
              "        google.colab.kernel.accessAllowed ? 'block' : 'none';\n",
              "\n",
              "      async function convertToInteractive(key) {\n",
              "        const element = document.querySelector('#df-0c647b9a-633c-45e6-91a5-9854d85c18a8');\n",
              "        const dataTable =\n",
              "          await google.colab.kernel.invokeFunction('convertToInteractive',\n",
              "                                                    [key], {});\n",
              "        if (!dataTable) return;\n",
              "\n",
              "        const docLinkHtml = 'Like what you see? Visit the ' +\n",
              "          '<a target=\"_blank\" href=https://colab.research.google.com/notebooks/data_table.ipynb>data table notebook</a>'\n",
              "          + ' to learn more about interactive tables.';\n",
              "        element.innerHTML = '';\n",
              "        dataTable['output_type'] = 'display_data';\n",
              "        await google.colab.output.renderOutput(dataTable, element);\n",
              "        const docLink = document.createElement('div');\n",
              "        docLink.innerHTML = docLinkHtml;\n",
              "        element.appendChild(docLink);\n",
              "      }\n",
              "    </script>\n",
              "  </div>\n",
              "\n",
              "\n",
              "<div id=\"df-d41c677c-7346-476b-ba5f-3543a6f2de37\">\n",
              "  <button class=\"colab-df-quickchart\" onclick=\"quickchart('df-d41c677c-7346-476b-ba5f-3543a6f2de37')\"\n",
              "            title=\"Suggest charts\"\n",
              "            style=\"display:none;\">\n",
              "\n",
              "<svg xmlns=\"http://www.w3.org/2000/svg\" height=\"24px\"viewBox=\"0 0 24 24\"\n",
              "     width=\"24px\">\n",
              "    <g>\n",
              "        <path d=\"M19 3H5c-1.1 0-2 .9-2 2v14c0 1.1.9 2 2 2h14c1.1 0 2-.9 2-2V5c0-1.1-.9-2-2-2zM9 17H7v-7h2v7zm4 0h-2V7h2v10zm4 0h-2v-4h2v4z\"/>\n",
              "    </g>\n",
              "</svg>\n",
              "  </button>\n",
              "\n",
              "<style>\n",
              "  .colab-df-quickchart {\n",
              "      --bg-color: #E8F0FE;\n",
              "      --fill-color: #1967D2;\n",
              "      --hover-bg-color: #E2EBFA;\n",
              "      --hover-fill-color: #174EA6;\n",
              "      --disabled-fill-color: #AAA;\n",
              "      --disabled-bg-color: #DDD;\n",
              "  }\n",
              "\n",
              "  [theme=dark] .colab-df-quickchart {\n",
              "      --bg-color: #3B4455;\n",
              "      --fill-color: #D2E3FC;\n",
              "      --hover-bg-color: #434B5C;\n",
              "      --hover-fill-color: #FFFFFF;\n",
              "      --disabled-bg-color: #3B4455;\n",
              "      --disabled-fill-color: #666;\n",
              "  }\n",
              "\n",
              "  .colab-df-quickchart {\n",
              "    background-color: var(--bg-color);\n",
              "    border: none;\n",
              "    border-radius: 50%;\n",
              "    cursor: pointer;\n",
              "    display: none;\n",
              "    fill: var(--fill-color);\n",
              "    height: 32px;\n",
              "    padding: 0;\n",
              "    width: 32px;\n",
              "  }\n",
              "\n",
              "  .colab-df-quickchart:hover {\n",
              "    background-color: var(--hover-bg-color);\n",
              "    box-shadow: 0 1px 2px rgba(60, 64, 67, 0.3), 0 1px 3px 1px rgba(60, 64, 67, 0.15);\n",
              "    fill: var(--button-hover-fill-color);\n",
              "  }\n",
              "\n",
              "  .colab-df-quickchart-complete:disabled,\n",
              "  .colab-df-quickchart-complete:disabled:hover {\n",
              "    background-color: var(--disabled-bg-color);\n",
              "    fill: var(--disabled-fill-color);\n",
              "    box-shadow: none;\n",
              "  }\n",
              "\n",
              "  .colab-df-spinner {\n",
              "    border: 2px solid var(--fill-color);\n",
              "    border-color: transparent;\n",
              "    border-bottom-color: var(--fill-color);\n",
              "    animation:\n",
              "      spin 1s steps(1) infinite;\n",
              "  }\n",
              "\n",
              "  @keyframes spin {\n",
              "    0% {\n",
              "      border-color: transparent;\n",
              "      border-bottom-color: var(--fill-color);\n",
              "      border-left-color: var(--fill-color);\n",
              "    }\n",
              "    20% {\n",
              "      border-color: transparent;\n",
              "      border-left-color: var(--fill-color);\n",
              "      border-top-color: var(--fill-color);\n",
              "    }\n",
              "    30% {\n",
              "      border-color: transparent;\n",
              "      border-left-color: var(--fill-color);\n",
              "      border-top-color: var(--fill-color);\n",
              "      border-right-color: var(--fill-color);\n",
              "    }\n",
              "    40% {\n",
              "      border-color: transparent;\n",
              "      border-right-color: var(--fill-color);\n",
              "      border-top-color: var(--fill-color);\n",
              "    }\n",
              "    60% {\n",
              "      border-color: transparent;\n",
              "      border-right-color: var(--fill-color);\n",
              "    }\n",
              "    80% {\n",
              "      border-color: transparent;\n",
              "      border-right-color: var(--fill-color);\n",
              "      border-bottom-color: var(--fill-color);\n",
              "    }\n",
              "    90% {\n",
              "      border-color: transparent;\n",
              "      border-bottom-color: var(--fill-color);\n",
              "    }\n",
              "  }\n",
              "</style>\n",
              "\n",
              "  <script>\n",
              "    async function quickchart(key) {\n",
              "      const quickchartButtonEl =\n",
              "        document.querySelector('#' + key + ' button');\n",
              "      quickchartButtonEl.disabled = true;  // To prevent multiple clicks.\n",
              "      quickchartButtonEl.classList.add('colab-df-spinner');\n",
              "      try {\n",
              "        const charts = await google.colab.kernel.invokeFunction(\n",
              "            'suggestCharts', [key], {});\n",
              "      } catch (error) {\n",
              "        console.error('Error during call to suggestCharts:', error);\n",
              "      }\n",
              "      quickchartButtonEl.classList.remove('colab-df-spinner');\n",
              "      quickchartButtonEl.classList.add('colab-df-quickchart-complete');\n",
              "    }\n",
              "    (() => {\n",
              "      let quickchartButtonEl =\n",
              "        document.querySelector('#df-d41c677c-7346-476b-ba5f-3543a6f2de37 button');\n",
              "      quickchartButtonEl.style.display =\n",
              "        google.colab.kernel.accessAllowed ? 'block' : 'none';\n",
              "    })();\n",
              "  </script>\n",
              "</div>\n",
              "\n",
              "    </div>\n",
              "  </div>\n"
            ],
            "application/vnd.google.colaboratory.intrinsic+json": {
              "type": "dataframe",
              "variable_name": "df",
              "summary": "{\n  \"name\": \"df\",\n  \"rows\": 422,\n  \"fields\": [\n    {\n      \"column\": \"id\",\n      \"properties\": {\n        \"dtype\": \"string\",\n        \"num_unique_values\": 211,\n        \"samples\": [\n          \"Real_37-Webpage\",\n          \"Fake_58-Webpage\",\n          \"Fake_28-Webpage\"\n        ],\n        \"semantic_type\": \"\",\n        \"description\": \"\"\n      }\n    },\n    {\n      \"column\": \"title\",\n      \"properties\": {\n        \"dtype\": \"string\",\n        \"num_unique_values\": 289,\n        \"samples\": [\n          \"Obama: Refugee crisis is test of our humanity\",\n          \"Trump Gets ANNIHILATED On Twitter After He Pretends He Didn\\u2019t Just Trash Police Officers (TWEETS)\",\n          \"White Guy Walled In Car By BlackLivesMatter Protesters \\u2013 They See What He\\u2019s Brandishing And Scatter\\u2026\"\n        ],\n        \"semantic_type\": \"\",\n        \"description\": \"\"\n      }\n    },\n    {\n      \"column\": \"text\",\n      \"properties\": {\n        \"dtype\": \"string\",\n        \"num_unique_values\": 289,\n        \"samples\": [\n          \"United Nations (CNN) President Barack Obama made an impassioned plea Tuesday for countries to fulfill a moral obligation to alleviate a global refugee crisis \\\"of epic proportions,\\\" despite a political backlash in the US against absorbing those fleeing Middle East violence.\\n\\nThe President's interest in calling attention to the tens of millions of displaced people around the world, and pushing back against the anti-refugee tenor, was underscored by his decision to convene a Leaders' Summit on Refugees at the United Nations Tuesday.\\n\\nAt the summit, he also rejected another aspect of the American political debate swirling around accepting foreigners -- GOP presidential nominee Donald Trump's call to build a wall along the US-Mexico border.\\n\\n\\\"This crisis is a test of our common humanity. Whether we give into suspicion and fear and build walls, or whether we see ourselves in another,\\\" Obama said, though he didn't mention Trump by name.\\n\\nObama singled out the situation in Syria, which has displaced 4.8 million people so far, as particularly \\\"unacceptable.\\\"\\n\\nJUST WATCHED President Obama at the UN: Then and now Replay More Videos ... MUST WATCH President Obama at the UN: Then and now 01:45\\n\\n\\\"We are not as unified as we should be in pushing to make it stop,\\\" he said, describing the global refugee crisis as both a humanitarian and security challenge that tests countries' ability to take collective action.\\n\\n\\\"I called this summit because this crisis is one of the most urgent tests of our time,\\\" he said. \\\"Just as failure to act in the past -- for example, by turning away Jews fleeing Nazi Germany -- is a stain on our collective conscience, I believe history will judge us harshly if we do not rise to this moment.\\\"\\n\\nThe refugee issue is one that's captured the world's attention more in the past two years than at perhaps any time since World War II, seared into the public's consciousness by photos like that of a 3-year-old Syrian boy who drowned in the Mediterranean and the flood of migrants into Europe.\\n\\nA recent study by from the UN's refugee agency estimated 65.3 million people were displaced from their homes by conflict or persecution in 2015, up by over five million from the prior year. Many are internally displaced within the borders of their own countries, but about 21.3 million are classified as refugees.\\n\\nObama's summit follows a similar UN-led meeting on the issue Monday, which drew attention to the crisis but offered little in the way of binding commitments.\\n\\n\\\"Make no mistake,\\\" US Secretary of State John Kerry said at the UN meeting, \\\"additional efforts are urgently needed.\\\"\\n\\nLeaders also called for a more orderly and equitable system to manage refugee flows -- acknowledging the burden is shouldered disproportionally by certain regions.\\n\\n\\\"You have to know that today the European Union has a clear objective to restore order on its external borders,\\\" European Council President Donald Tusk said in his remarks, signaling a growing sense that patience in Europe with the migrant flow is wearing thin.\\n\\n\\\"There will be no repeat of the year 2015 with more than one and a half million irregular migrants,\\\" he added.\\n\\nThe Obama administration is hopeful the Leader's Summit on Tuesday afternoon can build momentum for more action.\\n\\nNational Security Advisor Susan Rice in June announced that the gathering -- co-hosted along with the US by Canada, Ethiopia, Germany, Jordan, Mexico, Sweden and the UN Secretary General -- would seek an increase in funding of at least 30%, a doubling of permanent resettlement, and expanded access to education and work rights for refugees.\\n\\n\\\"Reaching these ambitious objectives will be challenging, yet the level of need demands no less,\\\" Rice said in a statement.\\n\\nBut aid groups are skeptical the summit will prompt the kind of action they say is desperately needed.\\n\\n\\\"We have to be optimistic that we'll see some real concrete commitments,\\\" said Amnesty International's Interim Executive Director Margaret Huang. \\\"But the truth is, even if those numbers are hit, it's nowhere near what's actually needed.\\\"\\n\\nThe US is a major contributor of humanitarian aid for countries that host large numbers of refugees -- particularly Syria's neighbors -- and plans to increase the number of refugees it will take in to America from 85,000 in 2016 to 110,000 next year.\\n\\nThe President's chief spokesman last week conceded that even as the administration calls for greater global action, it is limited in what it can do.\\n\\n\\\"The President's commitment to ensuring that the United States plays a leading role on this issue is not shared by a lot of people in Congress, including by a lot of people in the Republican majority in Congress,\\\" Press Secretary Josh Earnest told reporters. \\\"And that has an impact in terms of the resources that are dedicated to this effort.\\\"\\n\\nVetting efforts to screen refugees, he noted, \\\"are not cheap.\\\"\\n\\nDavid Miliband, president of the International Rescue Committee and a former British Foreign Secretary, said he's hopeful but waiting to see whether any agreements are backed up with action.\\n\\n\\\"The scale of the global refugee problem demands an appropriate scale of response,\\\" Miliband told CNN. \\\"Governments around the world haven't, in the main, been responding with the right degree of compassion or competence up to now.\\\"\\n\\nBut the co-hosts of the Leaders' Summit said in a statement they were pleased with \\\"new and significant humanitarian contributions\\\" from world leaders.\\n\\n\\\"We sought a $3 billion increase in global humanitarian financing and commitments to maintain funding in future years,\\\" they said. \\\"Through our mutual efforts, over the course of 2016, the 32 donors participating today have contributed this year roughly 4.5 billion additional dollars to UN appeals and international humanitarian organizations than in 2015.\\\"\\n\\nAs they await action from world leaders in New York, a group of volunteers in London laid out a \\\"life jacket graveyard\\\" Monday to draw attention to the plight of thousands of migrants who've lost their lives attempting hazardous boat crossings in the Mediterranean.\\n\\nThe conflict in Syria and resulting migrant crisis in the Middle East and Europe have dominated headlines over the past 18 months, but refugees are a global problem.\\n\\nPerhaps nowhere are they more prevalent than in the so-called \\\"global south\\\" -- the developing countries of the southern hemisphere. Last week, South Sudan joined the ranks of Syria, Afghanistan, and Somalia -- countries with over 1 million of their citizens living as refugees abroad.\\n\\nAnd protracted conflict in places like Somalia have led to a generation of lifelong refugees -- men and women in their twenties who've never known life outside of a camp.\\n\\n\\\"These are not people who can envision what life would be like if they were returned to their home countries,\\\" Huang said.\",\n          \"On Monday, Donald Trump fulfilled his duty as a presidential candidate by praising law enforcement for catching Ahmad Khan Rahami, who was responsible for the Saturday bombing in New York City.\\n\\nThis would have normally been a nice gesture, if it hadn\\u2019t been a contradiction of something Trump had said just a few minutes before. Fortunately, whenever Trump flip-flops or lies, Americans are able to instantly respond and call him out on his bullsh*t via social media \\u2013 and they didn\\u2019t hesitate to remind Trump that just a few minutes before he congratulated law enforcement for Rahami\\u2019s capture, he\\u2019d dissed the NYPD for allowing \\u201cpolitical correctness\\u201d to interfere with catching terrorists. Among the first to point this out was MSNBC\\u2019s Christopher Hayes, who tweeted:\\n\\nHayes was referring to a disrespectful comment Trump had made on Fox and Friends shortly before he congratulated the police officers, in which he said:\\n\\n\\u201cYou know, our police are amazing, our local police. They know who a lot of these people are, they are afraid to do anything about it, because they don\\u2019t want to be accused of profiling, and they don\\u2019t want to be accused of all sorts of things.\\u201d\\n\\nYup \\u2013 Trump had accused the NYPD of being cowards and knowing who terrorists are, yet he has the nerve to congratulate them in almost the same time frame. Other people recognized this epic fail as well, and blasted the Republican nominee for being so untrustworthy and two-faced:\\n\\nThis tweet was particularly funny, and I\\u2019m sure there will be some backlash for Trump to deal with:\\n\\nThroughout his presidential campaign, Trump has defended law enforcement far more fiercely than African American police brutality victims to help paint the picture that he is a \\u201claw and order\\u201d candidate. But thanks to his asinine comments about law enforcement having blood on their hands by assisting terrorists, Trump has probably just ruined a year of pro-law enforcement campaigning.\\n\\nFeatured image via Spencer Platt / Getty Images\",\n          \"White Guy Walled In Car By BlackLivesMatter Protesters \\u2013 They See What He\\u2019s Brandishing And Scatter\\u2026\\n\\nWhat do you do if you\\u2019re sitting in your vehicle and suddenly you\\u2019re surrounded by a seemingly hostile group?\\n\\nStep one should obviously be to lock your doors to make it just a little bit harder for them to break in.\\n\\nStep two is up to you. Do you put the pedal to the floor and power through? Do you call the police and wait.\\n\\nThis guy had another idea entirely and it worked like a charm.\\n\\n\\u00d7 101 Things All Young Adults Should Know by Sir John Hawkins John Hawkins's book 101 Things All Young Adults Should Know is filled with lessons that newly minted adults need in order to get the most out of life. Gleaned from a lifetime of trial, error, and writing it down, Hawkins provides advice everyone can benefit from in short, digestible chapters. Buy Now\\n\\nA random white guy was driving through the riots taking place in North Carolina when he was surrounded by the protesters/rioters. The photographer who witnessed the incident thought that he was going to get mugged, but for some reason they just let him through.\\n\\nThat seems very bizarre considering that we\\u2019ve seen videos of rioters stopping cargo trucks, stealing the items within and lightening them on fire. That being the case, why would they just let one guy go?\\n\\nWell, they saw what he was waving out the window and they must have thought that it was in their best interest to leave him alone.\\n\\nWhile being white in the middle of an angry BLM mob would usually be a death sentence, this guy had thought ahead. When his car was surrounded, he calmly rolled down his window and let the protesters know that he had a handgun.\\n\\nThe group quickly dispersed and let the man continue driving to his destination.\\n\\nThis is exactly how people should handle these kinds of situations. Do you think that he did the right thing? Or should he just have driven through?\"\n        ],\n        \"semantic_type\": \"\",\n        \"description\": \"\"\n      }\n    },\n    {\n      \"column\": \"url\",\n      \"properties\": {\n        \"dtype\": \"string\",\n        \"num_unique_values\": 287,\n        \"samples\": [\n          \"http://politi.co/2d0l760\",\n          \"http://occupydemocrats.com/2016/09/23/just-newsweek-accuses-trump-committing-felony/\",\n          \"http://occupydemocrats.com/2016/09/21/massive-protests-erupt-north-carolina-police-kill-disabled-black-man/\"\n        ],\n        \"semantic_type\": \"\",\n        \"description\": \"\"\n      }\n    },\n    {\n      \"column\": \"top_img\",\n      \"properties\": {\n        \"dtype\": \"string\",\n        \"num_unique_values\": 271,\n        \"samples\": [\n          \"http://static.politico.com/b5/be/fed7973e4fcb9fa148be44c4b892/donna-brazile-ap.jpg\",\n          \"http://static.politico.com/c5/b5/f61c15304140a6613cfd47e22870/untitled-1.jpg\",\n          \"http://static.politico.com/99/8a/2a935401461e98ea7561b5b072aa/160921-joe-arpaio-getty-1160.jpg\"\n        ],\n        \"semantic_type\": \"\",\n        \"description\": \"\"\n      }\n    },\n    {\n      \"column\": \"authors\",\n      \"properties\": {\n        \"dtype\": \"category\",\n        \"num_unique_values\": 154,\n        \"samples\": [\n          \"Philip Hodges,View All Posts\",\n          \"More Candace,Abc News\",\n          \"Featured Commentator\"\n        ],\n        \"semantic_type\": \"\",\n        \"description\": \"\"\n      }\n    },\n    {\n      \"column\": \"source\",\n      \"properties\": {\n        \"dtype\": \"category\",\n        \"num_unique_values\": 31,\n        \"samples\": [\n          \"http://www.yesimright.com\",\n          \"http://www.chicksontheright.com\",\n          \"http://usherald.com\"\n        ],\n        \"semantic_type\": \"\",\n        \"description\": \"\"\n      }\n    },\n    {\n      \"column\": \"publish_date\",\n      \"properties\": {\n        \"dtype\": \"category\",\n        \"num_unique_values\": 175,\n        \"samples\": [\n          \"{'$date': 1474332562000}\",\n          \"{'$date': 1474663910000}\",\n          \"{'$date': 1474982556000}\"\n        ],\n        \"semantic_type\": \"\",\n        \"description\": \"\"\n      }\n    },\n    {\n      \"column\": \"movies\",\n      \"properties\": {\n        \"dtype\": \"category\",\n        \"num_unique_values\": 32,\n        \"samples\": [\n          \"https://www.youtube.com/embed/ZGh8bI-G3fQ\",\n          \"https://www.youtube.com/embed/uO0R4k1tVMs?feature=oembed,https://www.youtube.com/embed/lNj06em7cfo?feature=oembed\",\n          \"https://www.youtube.com/embed/UTJB8AkT1dk?start=242&feature=oembed&showinfo=0&rel=0&modestbranding=1\"\n        ],\n        \"semantic_type\": \"\",\n        \"description\": \"\"\n      }\n    },\n    {\n      \"column\": \"images\",\n      \"properties\": {\n        \"dtype\": \"string\",\n        \"num_unique_values\": 276,\n        \"samples\": [\n          \"http://static.politico.com/b5/be/fed7973e4fcb9fa148be44c4b892/donna-brazile-ap.jpg,data:image/gif;base64,R0lGODlhAQABAAAAACH5BAEKAAEALAAAAAABAAEAAAICTAEAOw==,https://static.politico.com/dims4/default/7aa6fc7/2147483647/resize/1160x%3E/quality/90/?url=http%3A%2F%2Fstatic.politico.com%2Fb5%2Fbe%2Ffed7973e4fcb9fa148be44c4b892%2Fdonna-brazile-ap.jpg\",\n          \"http://rightchicks.staging.wpengine.com/wp-content/uploads/2015/11/book-thumb.jpg,https://www.chicksontheright.com/wp-content/uploads/2015/11/CotR_banner1-copy-2.jpg,http://pixel.quantserve.com/pixel/p-8W3QtpyKy7xuZ.gif,https://secure.gravatar.com/avatar/cd450b939c590d56f0005e42cc6f48d8?s=120&d=mm&r=g,http://www.chicksontheright.com/hofstra-universitys-student-union-puts-trigger-warning-ahead-tonights-debate/?utm_source=RWN&utm_medium=RWN&utm_campaign=RWN#!,https://www.chicksontheright.com/wp-content/uploads/2015/11/cotrolog-smalll.png,https://www.chicksontheright.com/wp-content/uploads/2016/09/trigger.jpg,http://pixel.quantserve.com/pixel/p-d1x2X8_nNBHjc.gif,https://www.chicksontheright.com/wp-content/uploads/2017/08/2017-08-29-19-41-22-424x250.jpg\",\n          \"http://www.googleadservices.com/pagead/conversion/1005826543/?value=0&label=1GPKCOHYjwMQ7-PO3wM&guid=ON&script=0,http://a.abcnews.com/images/Politics/AP_donald_Trump_jr_mm_160719_12x5_992.jpg,http://secure-us.imrworldwide.com/cgi-bin/m?ci=us-704476h&cg=0&cc=1&ts=noscript,http://a.abcnews.com/images/Politics/AP_donald_Trump_jr_mm_160719_16x9_992.jpg\"\n        ],\n        \"semantic_type\": \"\",\n        \"description\": \"\"\n      }\n    },\n    {\n      \"column\": \"canonical_link\",\n      \"properties\": {\n        \"dtype\": \"string\",\n        \"num_unique_values\": 277,\n        \"samples\": [\n          \"http://www.politico.com/story/2016/09/trump-debate-birther-donna-brazile-228781\",\n          \"http://addictinginfo.com/2016/09/23/early-voting-in-north-carolina-shows-great-news-for-democrats/\",\n          \"http://freedomdaily.com/disgusting-because-of-hillary-obama-ny-terrorist-will-get-better-treatment-than-us-vets/\"\n        ],\n        \"semantic_type\": \"\",\n        \"description\": \"\"\n      }\n    },\n    {\n      \"column\": \"meta_data\",\n      \"properties\": {\n        \"dtype\": \"string\",\n        \"num_unique_values\": 280,\n        \"samples\": [\n          \"{\\\"viewport\\\": \\\"width=device-width, initial-scale=1.0\\\", \\\"format-detection\\\": \\\"telephone=no\\\"}\",\n          \"{\\\"description\\\": \\\"How a billionaire Democrat could win in one of Donald Trump\\\\u2019s strongest states.\\\", \\\"og\\\": {\\\"site_name\\\": \\\"POLITICO Magazine\\\", \\\"description\\\": \\\"How a billionaire Democrat could win in one of Donald Trump\\\\u2019s strongest states.\\\", \\\"title\\\": \\\"Is West Virginia Holding America\\\\u2019s Weirdest Election?\\\", \\\"url\\\": \\\"http://politi.co/2d2tVHA\\\", \\\"image\\\": \\\"http://static.politico.com/31/ac/8f4776244f9a99c4c687af350af9/west-virginia-jim-justice-gubernatorial-2016.jpg\\\", \\\"fb_appid\\\": 114037015331397, \\\"type\\\": \\\"article\\\"}, \\\"twitter\\\": {\\\"site\\\": \\\"@politicomag\\\", \\\"card\\\": \\\"summary_large_image\\\", \\\"creator\\\": \\\"@politicomag\\\"}, \\\"host\\\": \\\"www.politico.com\\\", \\\"fb\\\": {\\\"pages\\\": 62317591679}, \\\"build\\\": \\\"release/2017-maria 4b1f874 2017-08-24T15:20:21Z\\\", \\\"viewport\\\": \\\"width=device-width, initial-scale=1\\\"}\",\n          \"{\\\"googlebot\\\": \\\"noimageindex\\\", \\\"generator\\\": \\\"Powered by Visual Composer - drag and drop page builder for WordPress.\\\", \\\"og\\\": {\\\"site_name\\\": \\\"Freedom Daily\\\", \\\"description\\\": \\\"Fearless...\\\", \\\"title\\\": \\\"The NFL Told Russell Wilson Not To Speak About His Faith, So He Did Something Fans Couldn't Believe \\\\u22c6 Freedom Daily\\\", \\\"locale\\\": \\\"en_US\\\", \\\"image\\\": {\\\"width\\\": 640, \\\"identifier\\\": \\\"http://freedomdaily.com/wp-content/uploads/2016/09/0059768001463454026_filepicker.jpg\\\", \\\"height\\\": 400}, \\\"url\\\": \\\"http://freedomdaily.com/nfl-told-russell-wilson-not-speak-faith-something-fans-couldnt-believe/\\\", \\\"type\\\": \\\"article\\\"}, \\\"twitter\\\": {\\\"description\\\": \\\"Fearless...\\\", \\\"creator\\\": \\\"@freedom_daily\\\", \\\"image\\\": \\\"http://freedomdaily.com/wp-content/uploads/2016/09/0059768001463454026_filepicker.jpg\\\", \\\"title\\\": \\\"The NFL Told Russell Wilson Not To Speak About His Faith, So He Did Something Fans Couldn't Believe \\\\u22c6 Freedom Daily\\\", \\\"site\\\": \\\"@Freedom_Daily\\\", \\\"card\\\": \\\"summary_large_image\\\"}, \\\"robots\\\": \\\"noimageindex\\\", \\\"DC.date.issued\\\": \\\"2016-09-26T12:38:38-07:00\\\", \\\"fb\\\": {\\\"app_id\\\": 967764079976426, \\\"pages\\\": 440106476051475}, \\\"msapplication-TileImage\\\": \\\"http://freedomdaily.com/wp-content/uploads/2016/12/cropped-site-icon-freedomdaily-270x270.png\\\", \\\"article\\\": {\\\"publisher\\\": \\\"https://www.facebook.com/FreedomDailyNews/\\\", \\\"section\\\": \\\"Culture\\\", \\\"tag\\\": \\\"NFL\\\", \\\"published_time\\\": \\\"2016-09-26T12:38:38-07:00\\\", \\\"author\\\": \\\"https://www.facebook.com/FreedomDailyNews/\\\"}, \\\"google-site-verification\\\": \\\"PS5t2tvK5BubwhM0jCExwVFXAb69FKhzwXlfzQQ2t9c\\\", \\\"viewport\\\": \\\"width=device-width, initial-scale=1.0\\\"}\"\n        ],\n        \"semantic_type\": \"\",\n        \"description\": \"\"\n      }\n    },\n    {\n      \"column\": \"category\",\n      \"properties\": {\n        \"dtype\": \"number\",\n        \"std\": 0,\n        \"min\": 0,\n        \"max\": 1,\n        \"num_unique_values\": 2,\n        \"samples\": [\n          0,\n          1\n        ],\n        \"semantic_type\": \"\",\n        \"description\": \"\"\n      }\n    }\n  ]\n}"
            }
          },
          "metadata": {},
          "execution_count": 94
        }
      ]
    },
    {
      "cell_type": "code",
      "source": [
        "df.info()"
      ],
      "metadata": {
        "execution": {
          "iopub.status.busy": "2024-06-15T14:10:35.938677Z",
          "iopub.execute_input": "2024-06-15T14:10:35.940222Z",
          "iopub.status.idle": "2024-06-15T14:10:35.960454Z",
          "shell.execute_reply.started": "2024-06-15T14:10:35.940176Z",
          "shell.execute_reply": "2024-06-15T14:10:35.959231Z"
        },
        "trusted": true,
        "id": "Tb4bnsTOPm_V",
        "outputId": "1a2b8dc3-7a14-41fb-cbd7-2f99a29427d1",
        "colab": {
          "base_uri": "https://localhost:8080/"
        }
      },
      "execution_count": 95,
      "outputs": [
        {
          "output_type": "stream",
          "name": "stdout",
          "text": [
            "<class 'pandas.core.frame.DataFrame'>\n",
            "Index: 422 entries, 0 to 119\n",
            "Data columns (total 13 columns):\n",
            " #   Column          Non-Null Count  Dtype \n",
            "---  ------          --------------  ----- \n",
            " 0   id              422 non-null    object\n",
            " 1   title           422 non-null    object\n",
            " 2   text            422 non-null    object\n",
            " 3   url             410 non-null    object\n",
            " 4   top_img         408 non-null    object\n",
            " 5   authors         355 non-null    object\n",
            " 6   source          410 non-null    object\n",
            " 7   publish_date    295 non-null    object\n",
            " 8   movies          39 non-null     object\n",
            " 9   images          408 non-null    object\n",
            " 10  canonical_link  400 non-null    object\n",
            " 11  meta_data       422 non-null    object\n",
            " 12  category        422 non-null    int64 \n",
            "dtypes: int64(1), object(12)\n",
            "memory usage: 46.2+ KB\n"
          ]
        }
      ]
    },
    {
      "cell_type": "code",
      "source": [
        "df.drop(['id','top_img','url','publish_date','movies','images','canonical_link','meta_data'],axis=1, inplace=True)"
      ],
      "metadata": {
        "execution": {
          "iopub.status.busy": "2024-06-15T14:10:35.962049Z",
          "iopub.execute_input": "2024-06-15T14:10:35.962513Z",
          "iopub.status.idle": "2024-06-15T14:10:35.973484Z",
          "shell.execute_reply.started": "2024-06-15T14:10:35.962478Z",
          "shell.execute_reply": "2024-06-15T14:10:35.972299Z"
        },
        "trusted": true,
        "id": "NGdUjNtdPm_V"
      },
      "execution_count": 96,
      "outputs": []
    },
    {
      "cell_type": "code",
      "source": [
        "df.head(5)"
      ],
      "metadata": {
        "execution": {
          "iopub.status.busy": "2024-06-15T14:10:35.975123Z",
          "iopub.execute_input": "2024-06-15T14:10:35.975862Z",
          "iopub.status.idle": "2024-06-15T14:10:36.000729Z",
          "shell.execute_reply.started": "2024-06-15T14:10:35.975778Z",
          "shell.execute_reply": "2024-06-15T14:10:35.999308Z"
        },
        "trusted": true,
        "id": "rej3UXqUPm_W",
        "outputId": "e725dae4-183c-401f-b840-d95b3e266e75",
        "colab": {
          "base_uri": "https://localhost:8080/",
          "height": 206
        }
      },
      "execution_count": 97,
      "outputs": [
        {
          "output_type": "execute_result",
          "data": {
            "text/plain": [
              "                                               title  \\\n",
              "0  Another Terrorist Attack in NYC…Why Are we STI...   \n",
              "1  Donald Trump: Drugs a 'Very, Very Big Factor' ...   \n",
              "2  Obama To UN: ‘Giving Up Liberty, Enhances Secu...   \n",
              "3  Trump vs. Clinton: A Fundamental Clash over Ho...   \n",
              "4  President Obama Vetoes 9/11 Victims Bill, Sett...   \n",
              "\n",
              "                                                text  \\\n",
              "0  On Saturday, September 17 at 8:30 pm EST, an e...   \n",
              "1  Less than a day after protests over the police...   \n",
              "2  Obama To UN: ‘Giving Up Liberty, Enhances Secu...   \n",
              "3  Getty Images Wealth Of Nations Trump vs. Clint...   \n",
              "4  President Obama today vetoed a bill that would...   \n",
              "\n",
              "                                            authors                    source  \\\n",
              "0                   View All Posts,Leonora Cravotta    http://eaglerising.com   \n",
              "1       More Candace,Adam Kelsey,Abc News,More Adam            http://abcn.ws   \n",
              "2                                       Cassy Fiano  http://rightwingnews.com   \n",
              "3        Jack Shafer,Erick Trickey,Zachary Karabell          http://politi.co   \n",
              "4  John Parkinson,More John,Abc News,More Alexander            http://abcn.ws   \n",
              "\n",
              "   category  \n",
              "0         1  \n",
              "1         1  \n",
              "2         1  \n",
              "3         1  \n",
              "4         1  "
            ],
            "text/html": [
              "\n",
              "  <div id=\"df-771b8d5a-f097-4e53-a154-54efeaa385eb\" class=\"colab-df-container\">\n",
              "    <div>\n",
              "<style scoped>\n",
              "    .dataframe tbody tr th:only-of-type {\n",
              "        vertical-align: middle;\n",
              "    }\n",
              "\n",
              "    .dataframe tbody tr th {\n",
              "        vertical-align: top;\n",
              "    }\n",
              "\n",
              "    .dataframe thead th {\n",
              "        text-align: right;\n",
              "    }\n",
              "</style>\n",
              "<table border=\"1\" class=\"dataframe\">\n",
              "  <thead>\n",
              "    <tr style=\"text-align: right;\">\n",
              "      <th></th>\n",
              "      <th>title</th>\n",
              "      <th>text</th>\n",
              "      <th>authors</th>\n",
              "      <th>source</th>\n",
              "      <th>category</th>\n",
              "    </tr>\n",
              "  </thead>\n",
              "  <tbody>\n",
              "    <tr>\n",
              "      <th>0</th>\n",
              "      <td>Another Terrorist Attack in NYC…Why Are we STI...</td>\n",
              "      <td>On Saturday, September 17 at 8:30 pm EST, an e...</td>\n",
              "      <td>View All Posts,Leonora Cravotta</td>\n",
              "      <td>http://eaglerising.com</td>\n",
              "      <td>1</td>\n",
              "    </tr>\n",
              "    <tr>\n",
              "      <th>1</th>\n",
              "      <td>Donald Trump: Drugs a 'Very, Very Big Factor' ...</td>\n",
              "      <td>Less than a day after protests over the police...</td>\n",
              "      <td>More Candace,Adam Kelsey,Abc News,More Adam</td>\n",
              "      <td>http://abcn.ws</td>\n",
              "      <td>1</td>\n",
              "    </tr>\n",
              "    <tr>\n",
              "      <th>2</th>\n",
              "      <td>Obama To UN: ‘Giving Up Liberty, Enhances Secu...</td>\n",
              "      <td>Obama To UN: ‘Giving Up Liberty, Enhances Secu...</td>\n",
              "      <td>Cassy Fiano</td>\n",
              "      <td>http://rightwingnews.com</td>\n",
              "      <td>1</td>\n",
              "    </tr>\n",
              "    <tr>\n",
              "      <th>3</th>\n",
              "      <td>Trump vs. Clinton: A Fundamental Clash over Ho...</td>\n",
              "      <td>Getty Images Wealth Of Nations Trump vs. Clint...</td>\n",
              "      <td>Jack Shafer,Erick Trickey,Zachary Karabell</td>\n",
              "      <td>http://politi.co</td>\n",
              "      <td>1</td>\n",
              "    </tr>\n",
              "    <tr>\n",
              "      <th>4</th>\n",
              "      <td>President Obama Vetoes 9/11 Victims Bill, Sett...</td>\n",
              "      <td>President Obama today vetoed a bill that would...</td>\n",
              "      <td>John Parkinson,More John,Abc News,More Alexander</td>\n",
              "      <td>http://abcn.ws</td>\n",
              "      <td>1</td>\n",
              "    </tr>\n",
              "  </tbody>\n",
              "</table>\n",
              "</div>\n",
              "    <div class=\"colab-df-buttons\">\n",
              "\n",
              "  <div class=\"colab-df-container\">\n",
              "    <button class=\"colab-df-convert\" onclick=\"convertToInteractive('df-771b8d5a-f097-4e53-a154-54efeaa385eb')\"\n",
              "            title=\"Convert this dataframe to an interactive table.\"\n",
              "            style=\"display:none;\">\n",
              "\n",
              "  <svg xmlns=\"http://www.w3.org/2000/svg\" height=\"24px\" viewBox=\"0 -960 960 960\">\n",
              "    <path d=\"M120-120v-720h720v720H120Zm60-500h600v-160H180v160Zm220 220h160v-160H400v160Zm0 220h160v-160H400v160ZM180-400h160v-160H180v160Zm440 0h160v-160H620v160ZM180-180h160v-160H180v160Zm440 0h160v-160H620v160Z\"/>\n",
              "  </svg>\n",
              "    </button>\n",
              "\n",
              "  <style>\n",
              "    .colab-df-container {\n",
              "      display:flex;\n",
              "      gap: 12px;\n",
              "    }\n",
              "\n",
              "    .colab-df-convert {\n",
              "      background-color: #E8F0FE;\n",
              "      border: none;\n",
              "      border-radius: 50%;\n",
              "      cursor: pointer;\n",
              "      display: none;\n",
              "      fill: #1967D2;\n",
              "      height: 32px;\n",
              "      padding: 0 0 0 0;\n",
              "      width: 32px;\n",
              "    }\n",
              "\n",
              "    .colab-df-convert:hover {\n",
              "      background-color: #E2EBFA;\n",
              "      box-shadow: 0px 1px 2px rgba(60, 64, 67, 0.3), 0px 1px 3px 1px rgba(60, 64, 67, 0.15);\n",
              "      fill: #174EA6;\n",
              "    }\n",
              "\n",
              "    .colab-df-buttons div {\n",
              "      margin-bottom: 4px;\n",
              "    }\n",
              "\n",
              "    [theme=dark] .colab-df-convert {\n",
              "      background-color: #3B4455;\n",
              "      fill: #D2E3FC;\n",
              "    }\n",
              "\n",
              "    [theme=dark] .colab-df-convert:hover {\n",
              "      background-color: #434B5C;\n",
              "      box-shadow: 0px 1px 3px 1px rgba(0, 0, 0, 0.15);\n",
              "      filter: drop-shadow(0px 1px 2px rgba(0, 0, 0, 0.3));\n",
              "      fill: #FFFFFF;\n",
              "    }\n",
              "  </style>\n",
              "\n",
              "    <script>\n",
              "      const buttonEl =\n",
              "        document.querySelector('#df-771b8d5a-f097-4e53-a154-54efeaa385eb button.colab-df-convert');\n",
              "      buttonEl.style.display =\n",
              "        google.colab.kernel.accessAllowed ? 'block' : 'none';\n",
              "\n",
              "      async function convertToInteractive(key) {\n",
              "        const element = document.querySelector('#df-771b8d5a-f097-4e53-a154-54efeaa385eb');\n",
              "        const dataTable =\n",
              "          await google.colab.kernel.invokeFunction('convertToInteractive',\n",
              "                                                    [key], {});\n",
              "        if (!dataTable) return;\n",
              "\n",
              "        const docLinkHtml = 'Like what you see? Visit the ' +\n",
              "          '<a target=\"_blank\" href=https://colab.research.google.com/notebooks/data_table.ipynb>data table notebook</a>'\n",
              "          + ' to learn more about interactive tables.';\n",
              "        element.innerHTML = '';\n",
              "        dataTable['output_type'] = 'display_data';\n",
              "        await google.colab.output.renderOutput(dataTable, element);\n",
              "        const docLink = document.createElement('div');\n",
              "        docLink.innerHTML = docLinkHtml;\n",
              "        element.appendChild(docLink);\n",
              "      }\n",
              "    </script>\n",
              "  </div>\n",
              "\n",
              "\n",
              "<div id=\"df-966afc39-1f7a-4903-bd66-5cf80454a63b\">\n",
              "  <button class=\"colab-df-quickchart\" onclick=\"quickchart('df-966afc39-1f7a-4903-bd66-5cf80454a63b')\"\n",
              "            title=\"Suggest charts\"\n",
              "            style=\"display:none;\">\n",
              "\n",
              "<svg xmlns=\"http://www.w3.org/2000/svg\" height=\"24px\"viewBox=\"0 0 24 24\"\n",
              "     width=\"24px\">\n",
              "    <g>\n",
              "        <path d=\"M19 3H5c-1.1 0-2 .9-2 2v14c0 1.1.9 2 2 2h14c1.1 0 2-.9 2-2V5c0-1.1-.9-2-2-2zM9 17H7v-7h2v7zm4 0h-2V7h2v10zm4 0h-2v-4h2v4z\"/>\n",
              "    </g>\n",
              "</svg>\n",
              "  </button>\n",
              "\n",
              "<style>\n",
              "  .colab-df-quickchart {\n",
              "      --bg-color: #E8F0FE;\n",
              "      --fill-color: #1967D2;\n",
              "      --hover-bg-color: #E2EBFA;\n",
              "      --hover-fill-color: #174EA6;\n",
              "      --disabled-fill-color: #AAA;\n",
              "      --disabled-bg-color: #DDD;\n",
              "  }\n",
              "\n",
              "  [theme=dark] .colab-df-quickchart {\n",
              "      --bg-color: #3B4455;\n",
              "      --fill-color: #D2E3FC;\n",
              "      --hover-bg-color: #434B5C;\n",
              "      --hover-fill-color: #FFFFFF;\n",
              "      --disabled-bg-color: #3B4455;\n",
              "      --disabled-fill-color: #666;\n",
              "  }\n",
              "\n",
              "  .colab-df-quickchart {\n",
              "    background-color: var(--bg-color);\n",
              "    border: none;\n",
              "    border-radius: 50%;\n",
              "    cursor: pointer;\n",
              "    display: none;\n",
              "    fill: var(--fill-color);\n",
              "    height: 32px;\n",
              "    padding: 0;\n",
              "    width: 32px;\n",
              "  }\n",
              "\n",
              "  .colab-df-quickchart:hover {\n",
              "    background-color: var(--hover-bg-color);\n",
              "    box-shadow: 0 1px 2px rgba(60, 64, 67, 0.3), 0 1px 3px 1px rgba(60, 64, 67, 0.15);\n",
              "    fill: var(--button-hover-fill-color);\n",
              "  }\n",
              "\n",
              "  .colab-df-quickchart-complete:disabled,\n",
              "  .colab-df-quickchart-complete:disabled:hover {\n",
              "    background-color: var(--disabled-bg-color);\n",
              "    fill: var(--disabled-fill-color);\n",
              "    box-shadow: none;\n",
              "  }\n",
              "\n",
              "  .colab-df-spinner {\n",
              "    border: 2px solid var(--fill-color);\n",
              "    border-color: transparent;\n",
              "    border-bottom-color: var(--fill-color);\n",
              "    animation:\n",
              "      spin 1s steps(1) infinite;\n",
              "  }\n",
              "\n",
              "  @keyframes spin {\n",
              "    0% {\n",
              "      border-color: transparent;\n",
              "      border-bottom-color: var(--fill-color);\n",
              "      border-left-color: var(--fill-color);\n",
              "    }\n",
              "    20% {\n",
              "      border-color: transparent;\n",
              "      border-left-color: var(--fill-color);\n",
              "      border-top-color: var(--fill-color);\n",
              "    }\n",
              "    30% {\n",
              "      border-color: transparent;\n",
              "      border-left-color: var(--fill-color);\n",
              "      border-top-color: var(--fill-color);\n",
              "      border-right-color: var(--fill-color);\n",
              "    }\n",
              "    40% {\n",
              "      border-color: transparent;\n",
              "      border-right-color: var(--fill-color);\n",
              "      border-top-color: var(--fill-color);\n",
              "    }\n",
              "    60% {\n",
              "      border-color: transparent;\n",
              "      border-right-color: var(--fill-color);\n",
              "    }\n",
              "    80% {\n",
              "      border-color: transparent;\n",
              "      border-right-color: var(--fill-color);\n",
              "      border-bottom-color: var(--fill-color);\n",
              "    }\n",
              "    90% {\n",
              "      border-color: transparent;\n",
              "      border-bottom-color: var(--fill-color);\n",
              "    }\n",
              "  }\n",
              "</style>\n",
              "\n",
              "  <script>\n",
              "    async function quickchart(key) {\n",
              "      const quickchartButtonEl =\n",
              "        document.querySelector('#' + key + ' button');\n",
              "      quickchartButtonEl.disabled = true;  // To prevent multiple clicks.\n",
              "      quickchartButtonEl.classList.add('colab-df-spinner');\n",
              "      try {\n",
              "        const charts = await google.colab.kernel.invokeFunction(\n",
              "            'suggestCharts', [key], {});\n",
              "      } catch (error) {\n",
              "        console.error('Error during call to suggestCharts:', error);\n",
              "      }\n",
              "      quickchartButtonEl.classList.remove('colab-df-spinner');\n",
              "      quickchartButtonEl.classList.add('colab-df-quickchart-complete');\n",
              "    }\n",
              "    (() => {\n",
              "      let quickchartButtonEl =\n",
              "        document.querySelector('#df-966afc39-1f7a-4903-bd66-5cf80454a63b button');\n",
              "      quickchartButtonEl.style.display =\n",
              "        google.colab.kernel.accessAllowed ? 'block' : 'none';\n",
              "    })();\n",
              "  </script>\n",
              "</div>\n",
              "\n",
              "    </div>\n",
              "  </div>\n"
            ],
            "application/vnd.google.colaboratory.intrinsic+json": {
              "type": "dataframe",
              "variable_name": "df",
              "summary": "{\n  \"name\": \"df\",\n  \"rows\": 422,\n  \"fields\": [\n    {\n      \"column\": \"title\",\n      \"properties\": {\n        \"dtype\": \"string\",\n        \"num_unique_values\": 289,\n        \"samples\": [\n          \"Obama: Refugee crisis is test of our humanity\",\n          \"Trump Gets ANNIHILATED On Twitter After He Pretends He Didn\\u2019t Just Trash Police Officers (TWEETS)\",\n          \"White Guy Walled In Car By BlackLivesMatter Protesters \\u2013 They See What He\\u2019s Brandishing And Scatter\\u2026\"\n        ],\n        \"semantic_type\": \"\",\n        \"description\": \"\"\n      }\n    },\n    {\n      \"column\": \"text\",\n      \"properties\": {\n        \"dtype\": \"string\",\n        \"num_unique_values\": 289,\n        \"samples\": [\n          \"United Nations (CNN) President Barack Obama made an impassioned plea Tuesday for countries to fulfill a moral obligation to alleviate a global refugee crisis \\\"of epic proportions,\\\" despite a political backlash in the US against absorbing those fleeing Middle East violence.\\n\\nThe President's interest in calling attention to the tens of millions of displaced people around the world, and pushing back against the anti-refugee tenor, was underscored by his decision to convene a Leaders' Summit on Refugees at the United Nations Tuesday.\\n\\nAt the summit, he also rejected another aspect of the American political debate swirling around accepting foreigners -- GOP presidential nominee Donald Trump's call to build a wall along the US-Mexico border.\\n\\n\\\"This crisis is a test of our common humanity. Whether we give into suspicion and fear and build walls, or whether we see ourselves in another,\\\" Obama said, though he didn't mention Trump by name.\\n\\nObama singled out the situation in Syria, which has displaced 4.8 million people so far, as particularly \\\"unacceptable.\\\"\\n\\nJUST WATCHED President Obama at the UN: Then and now Replay More Videos ... MUST WATCH President Obama at the UN: Then and now 01:45\\n\\n\\\"We are not as unified as we should be in pushing to make it stop,\\\" he said, describing the global refugee crisis as both a humanitarian and security challenge that tests countries' ability to take collective action.\\n\\n\\\"I called this summit because this crisis is one of the most urgent tests of our time,\\\" he said. \\\"Just as failure to act in the past -- for example, by turning away Jews fleeing Nazi Germany -- is a stain on our collective conscience, I believe history will judge us harshly if we do not rise to this moment.\\\"\\n\\nThe refugee issue is one that's captured the world's attention more in the past two years than at perhaps any time since World War II, seared into the public's consciousness by photos like that of a 3-year-old Syrian boy who drowned in the Mediterranean and the flood of migrants into Europe.\\n\\nA recent study by from the UN's refugee agency estimated 65.3 million people were displaced from their homes by conflict or persecution in 2015, up by over five million from the prior year. Many are internally displaced within the borders of their own countries, but about 21.3 million are classified as refugees.\\n\\nObama's summit follows a similar UN-led meeting on the issue Monday, which drew attention to the crisis but offered little in the way of binding commitments.\\n\\n\\\"Make no mistake,\\\" US Secretary of State John Kerry said at the UN meeting, \\\"additional efforts are urgently needed.\\\"\\n\\nLeaders also called for a more orderly and equitable system to manage refugee flows -- acknowledging the burden is shouldered disproportionally by certain regions.\\n\\n\\\"You have to know that today the European Union has a clear objective to restore order on its external borders,\\\" European Council President Donald Tusk said in his remarks, signaling a growing sense that patience in Europe with the migrant flow is wearing thin.\\n\\n\\\"There will be no repeat of the year 2015 with more than one and a half million irregular migrants,\\\" he added.\\n\\nThe Obama administration is hopeful the Leader's Summit on Tuesday afternoon can build momentum for more action.\\n\\nNational Security Advisor Susan Rice in June announced that the gathering -- co-hosted along with the US by Canada, Ethiopia, Germany, Jordan, Mexico, Sweden and the UN Secretary General -- would seek an increase in funding of at least 30%, a doubling of permanent resettlement, and expanded access to education and work rights for refugees.\\n\\n\\\"Reaching these ambitious objectives will be challenging, yet the level of need demands no less,\\\" Rice said in a statement.\\n\\nBut aid groups are skeptical the summit will prompt the kind of action they say is desperately needed.\\n\\n\\\"We have to be optimistic that we'll see some real concrete commitments,\\\" said Amnesty International's Interim Executive Director Margaret Huang. \\\"But the truth is, even if those numbers are hit, it's nowhere near what's actually needed.\\\"\\n\\nThe US is a major contributor of humanitarian aid for countries that host large numbers of refugees -- particularly Syria's neighbors -- and plans to increase the number of refugees it will take in to America from 85,000 in 2016 to 110,000 next year.\\n\\nThe President's chief spokesman last week conceded that even as the administration calls for greater global action, it is limited in what it can do.\\n\\n\\\"The President's commitment to ensuring that the United States plays a leading role on this issue is not shared by a lot of people in Congress, including by a lot of people in the Republican majority in Congress,\\\" Press Secretary Josh Earnest told reporters. \\\"And that has an impact in terms of the resources that are dedicated to this effort.\\\"\\n\\nVetting efforts to screen refugees, he noted, \\\"are not cheap.\\\"\\n\\nDavid Miliband, president of the International Rescue Committee and a former British Foreign Secretary, said he's hopeful but waiting to see whether any agreements are backed up with action.\\n\\n\\\"The scale of the global refugee problem demands an appropriate scale of response,\\\" Miliband told CNN. \\\"Governments around the world haven't, in the main, been responding with the right degree of compassion or competence up to now.\\\"\\n\\nBut the co-hosts of the Leaders' Summit said in a statement they were pleased with \\\"new and significant humanitarian contributions\\\" from world leaders.\\n\\n\\\"We sought a $3 billion increase in global humanitarian financing and commitments to maintain funding in future years,\\\" they said. \\\"Through our mutual efforts, over the course of 2016, the 32 donors participating today have contributed this year roughly 4.5 billion additional dollars to UN appeals and international humanitarian organizations than in 2015.\\\"\\n\\nAs they await action from world leaders in New York, a group of volunteers in London laid out a \\\"life jacket graveyard\\\" Monday to draw attention to the plight of thousands of migrants who've lost their lives attempting hazardous boat crossings in the Mediterranean.\\n\\nThe conflict in Syria and resulting migrant crisis in the Middle East and Europe have dominated headlines over the past 18 months, but refugees are a global problem.\\n\\nPerhaps nowhere are they more prevalent than in the so-called \\\"global south\\\" -- the developing countries of the southern hemisphere. Last week, South Sudan joined the ranks of Syria, Afghanistan, and Somalia -- countries with over 1 million of their citizens living as refugees abroad.\\n\\nAnd protracted conflict in places like Somalia have led to a generation of lifelong refugees -- men and women in their twenties who've never known life outside of a camp.\\n\\n\\\"These are not people who can envision what life would be like if they were returned to their home countries,\\\" Huang said.\",\n          \"On Monday, Donald Trump fulfilled his duty as a presidential candidate by praising law enforcement for catching Ahmad Khan Rahami, who was responsible for the Saturday bombing in New York City.\\n\\nThis would have normally been a nice gesture, if it hadn\\u2019t been a contradiction of something Trump had said just a few minutes before. Fortunately, whenever Trump flip-flops or lies, Americans are able to instantly respond and call him out on his bullsh*t via social media \\u2013 and they didn\\u2019t hesitate to remind Trump that just a few minutes before he congratulated law enforcement for Rahami\\u2019s capture, he\\u2019d dissed the NYPD for allowing \\u201cpolitical correctness\\u201d to interfere with catching terrorists. Among the first to point this out was MSNBC\\u2019s Christopher Hayes, who tweeted:\\n\\nHayes was referring to a disrespectful comment Trump had made on Fox and Friends shortly before he congratulated the police officers, in which he said:\\n\\n\\u201cYou know, our police are amazing, our local police. They know who a lot of these people are, they are afraid to do anything about it, because they don\\u2019t want to be accused of profiling, and they don\\u2019t want to be accused of all sorts of things.\\u201d\\n\\nYup \\u2013 Trump had accused the NYPD of being cowards and knowing who terrorists are, yet he has the nerve to congratulate them in almost the same time frame. Other people recognized this epic fail as well, and blasted the Republican nominee for being so untrustworthy and two-faced:\\n\\nThis tweet was particularly funny, and I\\u2019m sure there will be some backlash for Trump to deal with:\\n\\nThroughout his presidential campaign, Trump has defended law enforcement far more fiercely than African American police brutality victims to help paint the picture that he is a \\u201claw and order\\u201d candidate. But thanks to his asinine comments about law enforcement having blood on their hands by assisting terrorists, Trump has probably just ruined a year of pro-law enforcement campaigning.\\n\\nFeatured image via Spencer Platt / Getty Images\",\n          \"White Guy Walled In Car By BlackLivesMatter Protesters \\u2013 They See What He\\u2019s Brandishing And Scatter\\u2026\\n\\nWhat do you do if you\\u2019re sitting in your vehicle and suddenly you\\u2019re surrounded by a seemingly hostile group?\\n\\nStep one should obviously be to lock your doors to make it just a little bit harder for them to break in.\\n\\nStep two is up to you. Do you put the pedal to the floor and power through? Do you call the police and wait.\\n\\nThis guy had another idea entirely and it worked like a charm.\\n\\n\\u00d7 101 Things All Young Adults Should Know by Sir John Hawkins John Hawkins's book 101 Things All Young Adults Should Know is filled with lessons that newly minted adults need in order to get the most out of life. Gleaned from a lifetime of trial, error, and writing it down, Hawkins provides advice everyone can benefit from in short, digestible chapters. Buy Now\\n\\nA random white guy was driving through the riots taking place in North Carolina when he was surrounded by the protesters/rioters. The photographer who witnessed the incident thought that he was going to get mugged, but for some reason they just let him through.\\n\\nThat seems very bizarre considering that we\\u2019ve seen videos of rioters stopping cargo trucks, stealing the items within and lightening them on fire. That being the case, why would they just let one guy go?\\n\\nWell, they saw what he was waving out the window and they must have thought that it was in their best interest to leave him alone.\\n\\nWhile being white in the middle of an angry BLM mob would usually be a death sentence, this guy had thought ahead. When his car was surrounded, he calmly rolled down his window and let the protesters know that he had a handgun.\\n\\nThe group quickly dispersed and let the man continue driving to his destination.\\n\\nThis is exactly how people should handle these kinds of situations. Do you think that he did the right thing? Or should he just have driven through?\"\n        ],\n        \"semantic_type\": \"\",\n        \"description\": \"\"\n      }\n    },\n    {\n      \"column\": \"authors\",\n      \"properties\": {\n        \"dtype\": \"category\",\n        \"num_unique_values\": 154,\n        \"samples\": [\n          \"Philip Hodges,View All Posts\",\n          \"More Candace,Abc News\",\n          \"Featured Commentator\"\n        ],\n        \"semantic_type\": \"\",\n        \"description\": \"\"\n      }\n    },\n    {\n      \"column\": \"source\",\n      \"properties\": {\n        \"dtype\": \"category\",\n        \"num_unique_values\": 31,\n        \"samples\": [\n          \"http://www.yesimright.com\",\n          \"http://www.chicksontheright.com\",\n          \"http://usherald.com\"\n        ],\n        \"semantic_type\": \"\",\n        \"description\": \"\"\n      }\n    },\n    {\n      \"column\": \"category\",\n      \"properties\": {\n        \"dtype\": \"number\",\n        \"std\": 0,\n        \"min\": 0,\n        \"max\": 1,\n        \"num_unique_values\": 2,\n        \"samples\": [\n          0,\n          1\n        ],\n        \"semantic_type\": \"\",\n        \"description\": \"\"\n      }\n    }\n  ]\n}"
            }
          },
          "metadata": {},
          "execution_count": 97
        }
      ]
    },
    {
      "cell_type": "code",
      "source": [
        "df.isnull().sum()"
      ],
      "metadata": {
        "execution": {
          "iopub.status.busy": "2024-06-15T14:10:36.004342Z",
          "iopub.execute_input": "2024-06-15T14:10:36.004806Z",
          "iopub.status.idle": "2024-06-15T14:10:36.017073Z",
          "shell.execute_reply.started": "2024-06-15T14:10:36.004774Z",
          "shell.execute_reply": "2024-06-15T14:10:36.015941Z"
        },
        "trusted": true,
        "id": "YWBCLfYDPm_W",
        "outputId": "d035f43f-9989-4cfe-cd6b-d936be831f63",
        "colab": {
          "base_uri": "https://localhost:8080/"
        }
      },
      "execution_count": 98,
      "outputs": [
        {
          "output_type": "execute_result",
          "data": {
            "text/plain": [
              "title        0\n",
              "text         0\n",
              "authors     67\n",
              "source      12\n",
              "category     0\n",
              "dtype: int64"
            ]
          },
          "metadata": {},
          "execution_count": 98
        }
      ]
    },
    {
      "cell_type": "code",
      "source": [
        "# Fill null values in 'authors' column with 'Unknown'\n",
        "df['authors'] = df['authors'].fillna('Unknown')\n",
        "\n",
        "# Fill null values in 'source' column with 'Unknown'\n",
        "df['source'] = df['source'].fillna('Unknown')"
      ],
      "metadata": {
        "execution": {
          "iopub.status.busy": "2024-06-15T14:10:36.018671Z",
          "iopub.execute_input": "2024-06-15T14:10:36.020059Z",
          "iopub.status.idle": "2024-06-15T14:10:36.032465Z",
          "shell.execute_reply.started": "2024-06-15T14:10:36.019987Z",
          "shell.execute_reply": "2024-06-15T14:10:36.030579Z"
        },
        "trusted": true,
        "id": "LeOiIkpZPm_X"
      },
      "execution_count": 99,
      "outputs": []
    },
    {
      "cell_type": "code",
      "source": [
        "df['source_name'] = df['source'].str.extract(r\"(?:https?://)?(?:www\\.)?([^./]+)\")\n",
        "df"
      ],
      "metadata": {
        "execution": {
          "iopub.status.busy": "2024-06-15T14:10:36.034183Z",
          "iopub.execute_input": "2024-06-15T14:10:36.034731Z",
          "iopub.status.idle": "2024-06-15T14:10:36.063662Z",
          "shell.execute_reply.started": "2024-06-15T14:10:36.034692Z",
          "shell.execute_reply": "2024-06-15T14:10:36.061978Z"
        },
        "trusted": true,
        "id": "sZSpvcpQPm_X",
        "outputId": "b47d6639-8e1c-4903-a4f5-f22a67203dec",
        "colab": {
          "base_uri": "https://localhost:8080/",
          "height": 424
        }
      },
      "execution_count": 100,
      "outputs": [
        {
          "output_type": "execute_result",
          "data": {
            "text/plain": [
              "                                                 title  \\\n",
              "0    Another Terrorist Attack in NYC…Why Are we STI...   \n",
              "1    Donald Trump: Drugs a 'Very, Very Big Factor' ...   \n",
              "2    Obama To UN: ‘Giving Up Liberty, Enhances Secu...   \n",
              "3    Trump vs. Clinton: A Fundamental Clash over Ho...   \n",
              "4    President Obama Vetoes 9/11 Victims Bill, Sett...   \n",
              "..                                                 ...   \n",
              "115  Donald Trump, Germany’s disfavored son – POLITICO   \n",
              "116  BREAKING: Hollywood Legend Just Died Of Terrib...   \n",
              "117                            Worst. President. Ever.   \n",
              "118  Don King drops N-word while introducing Donald...   \n",
              "119  Donald Trump Jr. Compares Syrian Refugees to S...   \n",
              "\n",
              "                                                  text  \\\n",
              "0    On Saturday, September 17 at 8:30 pm EST, an e...   \n",
              "1    Less than a day after protests over the police...   \n",
              "2    Obama To UN: ‘Giving Up Liberty, Enhances Secu...   \n",
              "3    Getty Images Wealth Of Nations Trump vs. Clint...   \n",
              "4    President Obama today vetoed a bill that would...   \n",
              "..                                                 ...   \n",
              "115  KALLSTADT, Germany — Few places in Germany are...   \n",
              "116  Hollywood loses yet another one of their deare...   \n",
              "117  As my 25th wedding anniversary approached, I t...   \n",
              "118  Story highlights Trump was sitting in a chair ...   \n",
              "119  Donald Trump Jr., a son of the Republican pres...   \n",
              "\n",
              "                                              authors  \\\n",
              "0                     View All Posts,Leonora Cravotta   \n",
              "1         More Candace,Adam Kelsey,Abc News,More Adam   \n",
              "2                                         Cassy Fiano   \n",
              "3          Jack Shafer,Erick Trickey,Zachary Karabell   \n",
              "4    John Parkinson,More John,Abc News,More Alexander   \n",
              "..                                                ...   \n",
              "115              Matthew Karnitschnig,Janosch Delcker   \n",
              "116                                       Nancy Wells   \n",
              "117                        Jack Shafer,Robert Strauss   \n",
              "118                                    Jeremy Diamond   \n",
              "119                                          Abc News   \n",
              "\n",
              "                       source  category    source_name  \n",
              "0      http://eaglerising.com         1    eaglerising  \n",
              "1              http://abcn.ws         1           abcn  \n",
              "2    http://rightwingnews.com         1  rightwingnews  \n",
              "3            http://politi.co         1         politi  \n",
              "4              http://abcn.ws         1           abcn  \n",
              "..                        ...       ...            ...  \n",
              "115          http://politi.co         0         politi  \n",
              "116       http://newsbake.com         0       newsbake  \n",
              "117          http://politi.co         0         politi  \n",
              "118             http://cnn.it         0            cnn  \n",
              "119            http://abcn.ws         0           abcn  \n",
              "\n",
              "[422 rows x 6 columns]"
            ],
            "text/html": [
              "\n",
              "  <div id=\"df-ebcb0fd1-d804-43bf-8511-e233c62ba12c\" class=\"colab-df-container\">\n",
              "    <div>\n",
              "<style scoped>\n",
              "    .dataframe tbody tr th:only-of-type {\n",
              "        vertical-align: middle;\n",
              "    }\n",
              "\n",
              "    .dataframe tbody tr th {\n",
              "        vertical-align: top;\n",
              "    }\n",
              "\n",
              "    .dataframe thead th {\n",
              "        text-align: right;\n",
              "    }\n",
              "</style>\n",
              "<table border=\"1\" class=\"dataframe\">\n",
              "  <thead>\n",
              "    <tr style=\"text-align: right;\">\n",
              "      <th></th>\n",
              "      <th>title</th>\n",
              "      <th>text</th>\n",
              "      <th>authors</th>\n",
              "      <th>source</th>\n",
              "      <th>category</th>\n",
              "      <th>source_name</th>\n",
              "    </tr>\n",
              "  </thead>\n",
              "  <tbody>\n",
              "    <tr>\n",
              "      <th>0</th>\n",
              "      <td>Another Terrorist Attack in NYC…Why Are we STI...</td>\n",
              "      <td>On Saturday, September 17 at 8:30 pm EST, an e...</td>\n",
              "      <td>View All Posts,Leonora Cravotta</td>\n",
              "      <td>http://eaglerising.com</td>\n",
              "      <td>1</td>\n",
              "      <td>eaglerising</td>\n",
              "    </tr>\n",
              "    <tr>\n",
              "      <th>1</th>\n",
              "      <td>Donald Trump: Drugs a 'Very, Very Big Factor' ...</td>\n",
              "      <td>Less than a day after protests over the police...</td>\n",
              "      <td>More Candace,Adam Kelsey,Abc News,More Adam</td>\n",
              "      <td>http://abcn.ws</td>\n",
              "      <td>1</td>\n",
              "      <td>abcn</td>\n",
              "    </tr>\n",
              "    <tr>\n",
              "      <th>2</th>\n",
              "      <td>Obama To UN: ‘Giving Up Liberty, Enhances Secu...</td>\n",
              "      <td>Obama To UN: ‘Giving Up Liberty, Enhances Secu...</td>\n",
              "      <td>Cassy Fiano</td>\n",
              "      <td>http://rightwingnews.com</td>\n",
              "      <td>1</td>\n",
              "      <td>rightwingnews</td>\n",
              "    </tr>\n",
              "    <tr>\n",
              "      <th>3</th>\n",
              "      <td>Trump vs. Clinton: A Fundamental Clash over Ho...</td>\n",
              "      <td>Getty Images Wealth Of Nations Trump vs. Clint...</td>\n",
              "      <td>Jack Shafer,Erick Trickey,Zachary Karabell</td>\n",
              "      <td>http://politi.co</td>\n",
              "      <td>1</td>\n",
              "      <td>politi</td>\n",
              "    </tr>\n",
              "    <tr>\n",
              "      <th>4</th>\n",
              "      <td>President Obama Vetoes 9/11 Victims Bill, Sett...</td>\n",
              "      <td>President Obama today vetoed a bill that would...</td>\n",
              "      <td>John Parkinson,More John,Abc News,More Alexander</td>\n",
              "      <td>http://abcn.ws</td>\n",
              "      <td>1</td>\n",
              "      <td>abcn</td>\n",
              "    </tr>\n",
              "    <tr>\n",
              "      <th>...</th>\n",
              "      <td>...</td>\n",
              "      <td>...</td>\n",
              "      <td>...</td>\n",
              "      <td>...</td>\n",
              "      <td>...</td>\n",
              "      <td>...</td>\n",
              "    </tr>\n",
              "    <tr>\n",
              "      <th>115</th>\n",
              "      <td>Donald Trump, Germany’s disfavored son – POLITICO</td>\n",
              "      <td>KALLSTADT, Germany — Few places in Germany are...</td>\n",
              "      <td>Matthew Karnitschnig,Janosch Delcker</td>\n",
              "      <td>http://politi.co</td>\n",
              "      <td>0</td>\n",
              "      <td>politi</td>\n",
              "    </tr>\n",
              "    <tr>\n",
              "      <th>116</th>\n",
              "      <td>BREAKING: Hollywood Legend Just Died Of Terrib...</td>\n",
              "      <td>Hollywood loses yet another one of their deare...</td>\n",
              "      <td>Nancy Wells</td>\n",
              "      <td>http://newsbake.com</td>\n",
              "      <td>0</td>\n",
              "      <td>newsbake</td>\n",
              "    </tr>\n",
              "    <tr>\n",
              "      <th>117</th>\n",
              "      <td>Worst. President. Ever.</td>\n",
              "      <td>As my 25th wedding anniversary approached, I t...</td>\n",
              "      <td>Jack Shafer,Robert Strauss</td>\n",
              "      <td>http://politi.co</td>\n",
              "      <td>0</td>\n",
              "      <td>politi</td>\n",
              "    </tr>\n",
              "    <tr>\n",
              "      <th>118</th>\n",
              "      <td>Don King drops N-word while introducing Donald...</td>\n",
              "      <td>Story highlights Trump was sitting in a chair ...</td>\n",
              "      <td>Jeremy Diamond</td>\n",
              "      <td>http://cnn.it</td>\n",
              "      <td>0</td>\n",
              "      <td>cnn</td>\n",
              "    </tr>\n",
              "    <tr>\n",
              "      <th>119</th>\n",
              "      <td>Donald Trump Jr. Compares Syrian Refugees to S...</td>\n",
              "      <td>Donald Trump Jr., a son of the Republican pres...</td>\n",
              "      <td>Abc News</td>\n",
              "      <td>http://abcn.ws</td>\n",
              "      <td>0</td>\n",
              "      <td>abcn</td>\n",
              "    </tr>\n",
              "  </tbody>\n",
              "</table>\n",
              "<p>422 rows × 6 columns</p>\n",
              "</div>\n",
              "    <div class=\"colab-df-buttons\">\n",
              "\n",
              "  <div class=\"colab-df-container\">\n",
              "    <button class=\"colab-df-convert\" onclick=\"convertToInteractive('df-ebcb0fd1-d804-43bf-8511-e233c62ba12c')\"\n",
              "            title=\"Convert this dataframe to an interactive table.\"\n",
              "            style=\"display:none;\">\n",
              "\n",
              "  <svg xmlns=\"http://www.w3.org/2000/svg\" height=\"24px\" viewBox=\"0 -960 960 960\">\n",
              "    <path d=\"M120-120v-720h720v720H120Zm60-500h600v-160H180v160Zm220 220h160v-160H400v160Zm0 220h160v-160H400v160ZM180-400h160v-160H180v160Zm440 0h160v-160H620v160ZM180-180h160v-160H180v160Zm440 0h160v-160H620v160Z\"/>\n",
              "  </svg>\n",
              "    </button>\n",
              "\n",
              "  <style>\n",
              "    .colab-df-container {\n",
              "      display:flex;\n",
              "      gap: 12px;\n",
              "    }\n",
              "\n",
              "    .colab-df-convert {\n",
              "      background-color: #E8F0FE;\n",
              "      border: none;\n",
              "      border-radius: 50%;\n",
              "      cursor: pointer;\n",
              "      display: none;\n",
              "      fill: #1967D2;\n",
              "      height: 32px;\n",
              "      padding: 0 0 0 0;\n",
              "      width: 32px;\n",
              "    }\n",
              "\n",
              "    .colab-df-convert:hover {\n",
              "      background-color: #E2EBFA;\n",
              "      box-shadow: 0px 1px 2px rgba(60, 64, 67, 0.3), 0px 1px 3px 1px rgba(60, 64, 67, 0.15);\n",
              "      fill: #174EA6;\n",
              "    }\n",
              "\n",
              "    .colab-df-buttons div {\n",
              "      margin-bottom: 4px;\n",
              "    }\n",
              "\n",
              "    [theme=dark] .colab-df-convert {\n",
              "      background-color: #3B4455;\n",
              "      fill: #D2E3FC;\n",
              "    }\n",
              "\n",
              "    [theme=dark] .colab-df-convert:hover {\n",
              "      background-color: #434B5C;\n",
              "      box-shadow: 0px 1px 3px 1px rgba(0, 0, 0, 0.15);\n",
              "      filter: drop-shadow(0px 1px 2px rgba(0, 0, 0, 0.3));\n",
              "      fill: #FFFFFF;\n",
              "    }\n",
              "  </style>\n",
              "\n",
              "    <script>\n",
              "      const buttonEl =\n",
              "        document.querySelector('#df-ebcb0fd1-d804-43bf-8511-e233c62ba12c button.colab-df-convert');\n",
              "      buttonEl.style.display =\n",
              "        google.colab.kernel.accessAllowed ? 'block' : 'none';\n",
              "\n",
              "      async function convertToInteractive(key) {\n",
              "        const element = document.querySelector('#df-ebcb0fd1-d804-43bf-8511-e233c62ba12c');\n",
              "        const dataTable =\n",
              "          await google.colab.kernel.invokeFunction('convertToInteractive',\n",
              "                                                    [key], {});\n",
              "        if (!dataTable) return;\n",
              "\n",
              "        const docLinkHtml = 'Like what you see? Visit the ' +\n",
              "          '<a target=\"_blank\" href=https://colab.research.google.com/notebooks/data_table.ipynb>data table notebook</a>'\n",
              "          + ' to learn more about interactive tables.';\n",
              "        element.innerHTML = '';\n",
              "        dataTable['output_type'] = 'display_data';\n",
              "        await google.colab.output.renderOutput(dataTable, element);\n",
              "        const docLink = document.createElement('div');\n",
              "        docLink.innerHTML = docLinkHtml;\n",
              "        element.appendChild(docLink);\n",
              "      }\n",
              "    </script>\n",
              "  </div>\n",
              "\n",
              "\n",
              "<div id=\"df-58a448f8-0913-4d93-9f25-3252fd604b38\">\n",
              "  <button class=\"colab-df-quickchart\" onclick=\"quickchart('df-58a448f8-0913-4d93-9f25-3252fd604b38')\"\n",
              "            title=\"Suggest charts\"\n",
              "            style=\"display:none;\">\n",
              "\n",
              "<svg xmlns=\"http://www.w3.org/2000/svg\" height=\"24px\"viewBox=\"0 0 24 24\"\n",
              "     width=\"24px\">\n",
              "    <g>\n",
              "        <path d=\"M19 3H5c-1.1 0-2 .9-2 2v14c0 1.1.9 2 2 2h14c1.1 0 2-.9 2-2V5c0-1.1-.9-2-2-2zM9 17H7v-7h2v7zm4 0h-2V7h2v10zm4 0h-2v-4h2v4z\"/>\n",
              "    </g>\n",
              "</svg>\n",
              "  </button>\n",
              "\n",
              "<style>\n",
              "  .colab-df-quickchart {\n",
              "      --bg-color: #E8F0FE;\n",
              "      --fill-color: #1967D2;\n",
              "      --hover-bg-color: #E2EBFA;\n",
              "      --hover-fill-color: #174EA6;\n",
              "      --disabled-fill-color: #AAA;\n",
              "      --disabled-bg-color: #DDD;\n",
              "  }\n",
              "\n",
              "  [theme=dark] .colab-df-quickchart {\n",
              "      --bg-color: #3B4455;\n",
              "      --fill-color: #D2E3FC;\n",
              "      --hover-bg-color: #434B5C;\n",
              "      --hover-fill-color: #FFFFFF;\n",
              "      --disabled-bg-color: #3B4455;\n",
              "      --disabled-fill-color: #666;\n",
              "  }\n",
              "\n",
              "  .colab-df-quickchart {\n",
              "    background-color: var(--bg-color);\n",
              "    border: none;\n",
              "    border-radius: 50%;\n",
              "    cursor: pointer;\n",
              "    display: none;\n",
              "    fill: var(--fill-color);\n",
              "    height: 32px;\n",
              "    padding: 0;\n",
              "    width: 32px;\n",
              "  }\n",
              "\n",
              "  .colab-df-quickchart:hover {\n",
              "    background-color: var(--hover-bg-color);\n",
              "    box-shadow: 0 1px 2px rgba(60, 64, 67, 0.3), 0 1px 3px 1px rgba(60, 64, 67, 0.15);\n",
              "    fill: var(--button-hover-fill-color);\n",
              "  }\n",
              "\n",
              "  .colab-df-quickchart-complete:disabled,\n",
              "  .colab-df-quickchart-complete:disabled:hover {\n",
              "    background-color: var(--disabled-bg-color);\n",
              "    fill: var(--disabled-fill-color);\n",
              "    box-shadow: none;\n",
              "  }\n",
              "\n",
              "  .colab-df-spinner {\n",
              "    border: 2px solid var(--fill-color);\n",
              "    border-color: transparent;\n",
              "    border-bottom-color: var(--fill-color);\n",
              "    animation:\n",
              "      spin 1s steps(1) infinite;\n",
              "  }\n",
              "\n",
              "  @keyframes spin {\n",
              "    0% {\n",
              "      border-color: transparent;\n",
              "      border-bottom-color: var(--fill-color);\n",
              "      border-left-color: var(--fill-color);\n",
              "    }\n",
              "    20% {\n",
              "      border-color: transparent;\n",
              "      border-left-color: var(--fill-color);\n",
              "      border-top-color: var(--fill-color);\n",
              "    }\n",
              "    30% {\n",
              "      border-color: transparent;\n",
              "      border-left-color: var(--fill-color);\n",
              "      border-top-color: var(--fill-color);\n",
              "      border-right-color: var(--fill-color);\n",
              "    }\n",
              "    40% {\n",
              "      border-color: transparent;\n",
              "      border-right-color: var(--fill-color);\n",
              "      border-top-color: var(--fill-color);\n",
              "    }\n",
              "    60% {\n",
              "      border-color: transparent;\n",
              "      border-right-color: var(--fill-color);\n",
              "    }\n",
              "    80% {\n",
              "      border-color: transparent;\n",
              "      border-right-color: var(--fill-color);\n",
              "      border-bottom-color: var(--fill-color);\n",
              "    }\n",
              "    90% {\n",
              "      border-color: transparent;\n",
              "      border-bottom-color: var(--fill-color);\n",
              "    }\n",
              "  }\n",
              "</style>\n",
              "\n",
              "  <script>\n",
              "    async function quickchart(key) {\n",
              "      const quickchartButtonEl =\n",
              "        document.querySelector('#' + key + ' button');\n",
              "      quickchartButtonEl.disabled = true;  // To prevent multiple clicks.\n",
              "      quickchartButtonEl.classList.add('colab-df-spinner');\n",
              "      try {\n",
              "        const charts = await google.colab.kernel.invokeFunction(\n",
              "            'suggestCharts', [key], {});\n",
              "      } catch (error) {\n",
              "        console.error('Error during call to suggestCharts:', error);\n",
              "      }\n",
              "      quickchartButtonEl.classList.remove('colab-df-spinner');\n",
              "      quickchartButtonEl.classList.add('colab-df-quickchart-complete');\n",
              "    }\n",
              "    (() => {\n",
              "      let quickchartButtonEl =\n",
              "        document.querySelector('#df-58a448f8-0913-4d93-9f25-3252fd604b38 button');\n",
              "      quickchartButtonEl.style.display =\n",
              "        google.colab.kernel.accessAllowed ? 'block' : 'none';\n",
              "    })();\n",
              "  </script>\n",
              "</div>\n",
              "\n",
              "  <div id=\"id_9f4d7621-8e9f-49d3-adf2-e3da27a00072\">\n",
              "    <style>\n",
              "      .colab-df-generate {\n",
              "        background-color: #E8F0FE;\n",
              "        border: none;\n",
              "        border-radius: 50%;\n",
              "        cursor: pointer;\n",
              "        display: none;\n",
              "        fill: #1967D2;\n",
              "        height: 32px;\n",
              "        padding: 0 0 0 0;\n",
              "        width: 32px;\n",
              "      }\n",
              "\n",
              "      .colab-df-generate:hover {\n",
              "        background-color: #E2EBFA;\n",
              "        box-shadow: 0px 1px 2px rgba(60, 64, 67, 0.3), 0px 1px 3px 1px rgba(60, 64, 67, 0.15);\n",
              "        fill: #174EA6;\n",
              "      }\n",
              "\n",
              "      [theme=dark] .colab-df-generate {\n",
              "        background-color: #3B4455;\n",
              "        fill: #D2E3FC;\n",
              "      }\n",
              "\n",
              "      [theme=dark] .colab-df-generate:hover {\n",
              "        background-color: #434B5C;\n",
              "        box-shadow: 0px 1px 3px 1px rgba(0, 0, 0, 0.15);\n",
              "        filter: drop-shadow(0px 1px 2px rgba(0, 0, 0, 0.3));\n",
              "        fill: #FFFFFF;\n",
              "      }\n",
              "    </style>\n",
              "    <button class=\"colab-df-generate\" onclick=\"generateWithVariable('df')\"\n",
              "            title=\"Generate code using this dataframe.\"\n",
              "            style=\"display:none;\">\n",
              "\n",
              "  <svg xmlns=\"http://www.w3.org/2000/svg\" height=\"24px\"viewBox=\"0 0 24 24\"\n",
              "       width=\"24px\">\n",
              "    <path d=\"M7,19H8.4L18.45,9,17,7.55,7,17.6ZM5,21V16.75L18.45,3.32a2,2,0,0,1,2.83,0l1.4,1.43a1.91,1.91,0,0,1,.58,1.4,1.91,1.91,0,0,1-.58,1.4L9.25,21ZM18.45,9,17,7.55Zm-12,3A5.31,5.31,0,0,0,4.9,8.1,5.31,5.31,0,0,0,1,6.5,5.31,5.31,0,0,0,4.9,4.9,5.31,5.31,0,0,0,6.5,1,5.31,5.31,0,0,0,8.1,4.9,5.31,5.31,0,0,0,12,6.5,5.46,5.46,0,0,0,6.5,12Z\"/>\n",
              "  </svg>\n",
              "    </button>\n",
              "    <script>\n",
              "      (() => {\n",
              "      const buttonEl =\n",
              "        document.querySelector('#id_9f4d7621-8e9f-49d3-adf2-e3da27a00072 button.colab-df-generate');\n",
              "      buttonEl.style.display =\n",
              "        google.colab.kernel.accessAllowed ? 'block' : 'none';\n",
              "\n",
              "      buttonEl.onclick = () => {\n",
              "        google.colab.notebook.generateWithVariable('df');\n",
              "      }\n",
              "      })();\n",
              "    </script>\n",
              "  </div>\n",
              "\n",
              "    </div>\n",
              "  </div>\n"
            ],
            "application/vnd.google.colaboratory.intrinsic+json": {
              "type": "dataframe",
              "variable_name": "df",
              "summary": "{\n  \"name\": \"df\",\n  \"rows\": 422,\n  \"fields\": [\n    {\n      \"column\": \"title\",\n      \"properties\": {\n        \"dtype\": \"string\",\n        \"num_unique_values\": 289,\n        \"samples\": [\n          \"Obama: Refugee crisis is test of our humanity\",\n          \"Trump Gets ANNIHILATED On Twitter After He Pretends He Didn\\u2019t Just Trash Police Officers (TWEETS)\",\n          \"White Guy Walled In Car By BlackLivesMatter Protesters \\u2013 They See What He\\u2019s Brandishing And Scatter\\u2026\"\n        ],\n        \"semantic_type\": \"\",\n        \"description\": \"\"\n      }\n    },\n    {\n      \"column\": \"text\",\n      \"properties\": {\n        \"dtype\": \"string\",\n        \"num_unique_values\": 289,\n        \"samples\": [\n          \"United Nations (CNN) President Barack Obama made an impassioned plea Tuesday for countries to fulfill a moral obligation to alleviate a global refugee crisis \\\"of epic proportions,\\\" despite a political backlash in the US against absorbing those fleeing Middle East violence.\\n\\nThe President's interest in calling attention to the tens of millions of displaced people around the world, and pushing back against the anti-refugee tenor, was underscored by his decision to convene a Leaders' Summit on Refugees at the United Nations Tuesday.\\n\\nAt the summit, he also rejected another aspect of the American political debate swirling around accepting foreigners -- GOP presidential nominee Donald Trump's call to build a wall along the US-Mexico border.\\n\\n\\\"This crisis is a test of our common humanity. Whether we give into suspicion and fear and build walls, or whether we see ourselves in another,\\\" Obama said, though he didn't mention Trump by name.\\n\\nObama singled out the situation in Syria, which has displaced 4.8 million people so far, as particularly \\\"unacceptable.\\\"\\n\\nJUST WATCHED President Obama at the UN: Then and now Replay More Videos ... MUST WATCH President Obama at the UN: Then and now 01:45\\n\\n\\\"We are not as unified as we should be in pushing to make it stop,\\\" he said, describing the global refugee crisis as both a humanitarian and security challenge that tests countries' ability to take collective action.\\n\\n\\\"I called this summit because this crisis is one of the most urgent tests of our time,\\\" he said. \\\"Just as failure to act in the past -- for example, by turning away Jews fleeing Nazi Germany -- is a stain on our collective conscience, I believe history will judge us harshly if we do not rise to this moment.\\\"\\n\\nThe refugee issue is one that's captured the world's attention more in the past two years than at perhaps any time since World War II, seared into the public's consciousness by photos like that of a 3-year-old Syrian boy who drowned in the Mediterranean and the flood of migrants into Europe.\\n\\nA recent study by from the UN's refugee agency estimated 65.3 million people were displaced from their homes by conflict or persecution in 2015, up by over five million from the prior year. Many are internally displaced within the borders of their own countries, but about 21.3 million are classified as refugees.\\n\\nObama's summit follows a similar UN-led meeting on the issue Monday, which drew attention to the crisis but offered little in the way of binding commitments.\\n\\n\\\"Make no mistake,\\\" US Secretary of State John Kerry said at the UN meeting, \\\"additional efforts are urgently needed.\\\"\\n\\nLeaders also called for a more orderly and equitable system to manage refugee flows -- acknowledging the burden is shouldered disproportionally by certain regions.\\n\\n\\\"You have to know that today the European Union has a clear objective to restore order on its external borders,\\\" European Council President Donald Tusk said in his remarks, signaling a growing sense that patience in Europe with the migrant flow is wearing thin.\\n\\n\\\"There will be no repeat of the year 2015 with more than one and a half million irregular migrants,\\\" he added.\\n\\nThe Obama administration is hopeful the Leader's Summit on Tuesday afternoon can build momentum for more action.\\n\\nNational Security Advisor Susan Rice in June announced that the gathering -- co-hosted along with the US by Canada, Ethiopia, Germany, Jordan, Mexico, Sweden and the UN Secretary General -- would seek an increase in funding of at least 30%, a doubling of permanent resettlement, and expanded access to education and work rights for refugees.\\n\\n\\\"Reaching these ambitious objectives will be challenging, yet the level of need demands no less,\\\" Rice said in a statement.\\n\\nBut aid groups are skeptical the summit will prompt the kind of action they say is desperately needed.\\n\\n\\\"We have to be optimistic that we'll see some real concrete commitments,\\\" said Amnesty International's Interim Executive Director Margaret Huang. \\\"But the truth is, even if those numbers are hit, it's nowhere near what's actually needed.\\\"\\n\\nThe US is a major contributor of humanitarian aid for countries that host large numbers of refugees -- particularly Syria's neighbors -- and plans to increase the number of refugees it will take in to America from 85,000 in 2016 to 110,000 next year.\\n\\nThe President's chief spokesman last week conceded that even as the administration calls for greater global action, it is limited in what it can do.\\n\\n\\\"The President's commitment to ensuring that the United States plays a leading role on this issue is not shared by a lot of people in Congress, including by a lot of people in the Republican majority in Congress,\\\" Press Secretary Josh Earnest told reporters. \\\"And that has an impact in terms of the resources that are dedicated to this effort.\\\"\\n\\nVetting efforts to screen refugees, he noted, \\\"are not cheap.\\\"\\n\\nDavid Miliband, president of the International Rescue Committee and a former British Foreign Secretary, said he's hopeful but waiting to see whether any agreements are backed up with action.\\n\\n\\\"The scale of the global refugee problem demands an appropriate scale of response,\\\" Miliband told CNN. \\\"Governments around the world haven't, in the main, been responding with the right degree of compassion or competence up to now.\\\"\\n\\nBut the co-hosts of the Leaders' Summit said in a statement they were pleased with \\\"new and significant humanitarian contributions\\\" from world leaders.\\n\\n\\\"We sought a $3 billion increase in global humanitarian financing and commitments to maintain funding in future years,\\\" they said. \\\"Through our mutual efforts, over the course of 2016, the 32 donors participating today have contributed this year roughly 4.5 billion additional dollars to UN appeals and international humanitarian organizations than in 2015.\\\"\\n\\nAs they await action from world leaders in New York, a group of volunteers in London laid out a \\\"life jacket graveyard\\\" Monday to draw attention to the plight of thousands of migrants who've lost their lives attempting hazardous boat crossings in the Mediterranean.\\n\\nThe conflict in Syria and resulting migrant crisis in the Middle East and Europe have dominated headlines over the past 18 months, but refugees are a global problem.\\n\\nPerhaps nowhere are they more prevalent than in the so-called \\\"global south\\\" -- the developing countries of the southern hemisphere. Last week, South Sudan joined the ranks of Syria, Afghanistan, and Somalia -- countries with over 1 million of their citizens living as refugees abroad.\\n\\nAnd protracted conflict in places like Somalia have led to a generation of lifelong refugees -- men and women in their twenties who've never known life outside of a camp.\\n\\n\\\"These are not people who can envision what life would be like if they were returned to their home countries,\\\" Huang said.\",\n          \"On Monday, Donald Trump fulfilled his duty as a presidential candidate by praising law enforcement for catching Ahmad Khan Rahami, who was responsible for the Saturday bombing in New York City.\\n\\nThis would have normally been a nice gesture, if it hadn\\u2019t been a contradiction of something Trump had said just a few minutes before. Fortunately, whenever Trump flip-flops or lies, Americans are able to instantly respond and call him out on his bullsh*t via social media \\u2013 and they didn\\u2019t hesitate to remind Trump that just a few minutes before he congratulated law enforcement for Rahami\\u2019s capture, he\\u2019d dissed the NYPD for allowing \\u201cpolitical correctness\\u201d to interfere with catching terrorists. Among the first to point this out was MSNBC\\u2019s Christopher Hayes, who tweeted:\\n\\nHayes was referring to a disrespectful comment Trump had made on Fox and Friends shortly before he congratulated the police officers, in which he said:\\n\\n\\u201cYou know, our police are amazing, our local police. They know who a lot of these people are, they are afraid to do anything about it, because they don\\u2019t want to be accused of profiling, and they don\\u2019t want to be accused of all sorts of things.\\u201d\\n\\nYup \\u2013 Trump had accused the NYPD of being cowards and knowing who terrorists are, yet he has the nerve to congratulate them in almost the same time frame. Other people recognized this epic fail as well, and blasted the Republican nominee for being so untrustworthy and two-faced:\\n\\nThis tweet was particularly funny, and I\\u2019m sure there will be some backlash for Trump to deal with:\\n\\nThroughout his presidential campaign, Trump has defended law enforcement far more fiercely than African American police brutality victims to help paint the picture that he is a \\u201claw and order\\u201d candidate. But thanks to his asinine comments about law enforcement having blood on their hands by assisting terrorists, Trump has probably just ruined a year of pro-law enforcement campaigning.\\n\\nFeatured image via Spencer Platt / Getty Images\",\n          \"White Guy Walled In Car By BlackLivesMatter Protesters \\u2013 They See What He\\u2019s Brandishing And Scatter\\u2026\\n\\nWhat do you do if you\\u2019re sitting in your vehicle and suddenly you\\u2019re surrounded by a seemingly hostile group?\\n\\nStep one should obviously be to lock your doors to make it just a little bit harder for them to break in.\\n\\nStep two is up to you. Do you put the pedal to the floor and power through? Do you call the police and wait.\\n\\nThis guy had another idea entirely and it worked like a charm.\\n\\n\\u00d7 101 Things All Young Adults Should Know by Sir John Hawkins John Hawkins's book 101 Things All Young Adults Should Know is filled with lessons that newly minted adults need in order to get the most out of life. Gleaned from a lifetime of trial, error, and writing it down, Hawkins provides advice everyone can benefit from in short, digestible chapters. Buy Now\\n\\nA random white guy was driving through the riots taking place in North Carolina when he was surrounded by the protesters/rioters. The photographer who witnessed the incident thought that he was going to get mugged, but for some reason they just let him through.\\n\\nThat seems very bizarre considering that we\\u2019ve seen videos of rioters stopping cargo trucks, stealing the items within and lightening them on fire. That being the case, why would they just let one guy go?\\n\\nWell, they saw what he was waving out the window and they must have thought that it was in their best interest to leave him alone.\\n\\nWhile being white in the middle of an angry BLM mob would usually be a death sentence, this guy had thought ahead. When his car was surrounded, he calmly rolled down his window and let the protesters know that he had a handgun.\\n\\nThe group quickly dispersed and let the man continue driving to his destination.\\n\\nThis is exactly how people should handle these kinds of situations. Do you think that he did the right thing? Or should he just have driven through?\"\n        ],\n        \"semantic_type\": \"\",\n        \"description\": \"\"\n      }\n    },\n    {\n      \"column\": \"authors\",\n      \"properties\": {\n        \"dtype\": \"category\",\n        \"num_unique_values\": 155,\n        \"samples\": [\n          \"View All Posts,Tim Brown\",\n          \"Campus Reform,View All Posts\",\n          \"Abc News\"\n        ],\n        \"semantic_type\": \"\",\n        \"description\": \"\"\n      }\n    },\n    {\n      \"column\": \"source\",\n      \"properties\": {\n        \"dtype\": \"category\",\n        \"num_unique_values\": 32,\n        \"samples\": [\n          \"http://www.thepoliticalinsider.com\",\n          \"http://www.chicksontheright.com\",\n          \"http://usherald.com\"\n        ],\n        \"semantic_type\": \"\",\n        \"description\": \"\"\n      }\n    },\n    {\n      \"column\": \"category\",\n      \"properties\": {\n        \"dtype\": \"number\",\n        \"std\": 0,\n        \"min\": 0,\n        \"max\": 1,\n        \"num_unique_values\": 2,\n        \"samples\": [\n          0,\n          1\n        ],\n        \"semantic_type\": \"\",\n        \"description\": \"\"\n      }\n    },\n    {\n      \"column\": \"source_name\",\n      \"properties\": {\n        \"dtype\": \"category\",\n        \"num_unique_values\": 29,\n        \"samples\": [\n          \"conservativetribune\",\n          \"Unknown\"\n        ],\n        \"semantic_type\": \"\",\n        \"description\": \"\"\n      }\n    }\n  ]\n}"
            }
          },
          "metadata": {},
          "execution_count": 100
        }
      ]
    },
    {
      "cell_type": "code",
      "source": [
        "new = []\n",
        "for x in df[df['category'] == 0]['source'].unique():\n",
        "    if x in df[df['category'] == 1]['source'].unique():\n",
        "        match = re.search(r\"(?:https?://)?(?:www\\.)?([^./]+)\", x)\n",
        "        if match:\n",
        "            main_name = match.group(1)\n",
        "            if main_name not in new:\n",
        "                new.append(main_name)\n",
        "\n",
        "print(new)"
      ],
      "metadata": {
        "execution": {
          "iopub.status.busy": "2024-06-15T14:10:36.071873Z",
          "iopub.execute_input": "2024-06-15T14:10:36.072337Z",
          "iopub.status.idle": "2024-06-15T14:10:36.106729Z",
          "shell.execute_reply.started": "2024-06-15T14:10:36.072302Z",
          "shell.execute_reply": "2024-06-15T14:10:36.105406Z"
        },
        "trusted": true,
        "id": "-6tjzaEBPm_X",
        "outputId": "ab918add-bd40-4cf7-fbb9-6c7f74f189eb",
        "colab": {
          "base_uri": "https://localhost:8080/"
        }
      },
      "execution_count": 101,
      "outputs": [
        {
          "output_type": "stream",
          "name": "stdout",
          "text": [
            "['addictinginfo', 'eaglerising', 'conservativebyte', 'Unknown', 'winningdemocrats', 'freedomdaily', 'author', 'occupydemocrats', 'rightwingnews', 'chicksontheright', 'cnn', 'newsbake', 'politi', 'abcn', 'opposingviews', 'liberalamerica']\n"
          ]
        }
      ]
    },
    {
      "cell_type": "code",
      "source": [
        "source_counts = df[df['category'] == 1]['source_name'].value_counts()\n",
        "\n",
        "# Create a bar plot of the source counts\n",
        "plt.figure(figsize=(10, 6))\n",
        "source_counts.plot(kind='bar')\n",
        "plt.xlabel('Source', fontsize=12)\n",
        "plt.ylabel('Count', fontsize=12)\n",
        "plt.title('Sources of Real News', fontsize=15)\n",
        "plt.show()"
      ],
      "metadata": {
        "execution": {
          "iopub.status.busy": "2024-06-15T14:10:36.108237Z",
          "iopub.execute_input": "2024-06-15T14:10:36.109747Z",
          "iopub.status.idle": "2024-06-15T14:10:36.519766Z",
          "shell.execute_reply.started": "2024-06-15T14:10:36.109696Z",
          "shell.execute_reply": "2024-06-15T14:10:36.51833Z"
        },
        "trusted": true,
        "id": "QM_hSkHPPm_X",
        "outputId": "24418c89-1590-498c-efb3-44a72e1737ba",
        "colab": {
          "base_uri": "https://localhost:8080/",
          "height": 684
        }
      },
      "execution_count": 102,
      "outputs": [
        {
          "output_type": "display_data",
          "data": {
            "text/plain": [
              "<Figure size 1000x600 with 1 Axes>"
            ],
            "image/png": "[encoded data removed]"
          },
          "metadata": {}
        }
      ]
    },
    {
      "cell_type": "code",
      "source": [
        "source_counts = df[df['category'] == 0]['source_name'].value_counts()\n",
        "\n",
        "# Create a bar plot of the source counts\n",
        "plt.figure(figsize=(10, 6))\n",
        "source_counts.plot(kind='bar')\n",
        "plt.xlabel('Source', fontsize=12)\n",
        "plt.ylabel('Count', fontsize=12)\n",
        "plt.title('Sources of Fake News', fontsize=15)\n",
        "plt.show()"
      ],
      "metadata": {
        "execution": {
          "iopub.status.busy": "2024-06-15T14:10:36.521293Z",
          "iopub.execute_input": "2024-06-15T14:10:36.521752Z",
          "iopub.status.idle": "2024-06-15T14:10:36.87171Z",
          "shell.execute_reply.started": "2024-06-15T14:10:36.521712Z",
          "shell.execute_reply": "2024-06-15T14:10:36.870468Z"
        },
        "trusted": true,
        "id": "z5TnELCDPm_Y",
        "outputId": "de534337-6c68-475d-bc12-af2211ccda32",
        "colab": {
          "base_uri": "https://localhost:8080/",
          "height": 695
        }
      },
      "execution_count": 103,
      "outputs": [
        {
          "output_type": "display_data",
          "data": {
            "text/plain": [
              "<Figure size 1000x600 with 1 Axes>"
            ],
            "image/png": "[encoded data removed]"
          },
          "metadata": {}
        }
      ]
    },
    {
      "cell_type": "code",
      "source": [
        "# Countplot for fake news\n",
        "fake_order = df[df['category'] == 0]['source_name'].value_counts().sort_values(ascending=False).index\n",
        "plt.figure(figsize=(10, 6))\n",
        "sns.countplot(y='source_name', data=df[df['category'] == 0], order=fake_order, palette='autumn', label='Fake News', hue='category', legend=False)\n",
        "\n",
        "# Countplot for real news\n",
        "real_order = df[df['category'] == 1]['source_name'].value_counts().sort_values(ascending=False).index\n",
        "sns.countplot(y='source_name', data=df[df['category'] == 1], order=real_order, palette='summer', label='Real News', hue='category', legend=False)\n",
        "\n",
        "plt.xlabel('Count', fontsize=12)\n",
        "plt.ylabel('Source', fontsize=12)\n",
        "plt.title('Sources of Fake and Real News', fontsize=15)\n",
        "plt.legend()\n",
        "plt.show()"
      ],
      "metadata": {
        "execution": {
          "iopub.status.busy": "2024-06-15T14:10:36.873591Z",
          "iopub.execute_input": "2024-06-15T14:10:36.874047Z",
          "iopub.status.idle": "2024-06-15T14:10:37.427057Z",
          "shell.execute_reply.started": "2024-06-15T14:10:36.874003Z",
          "shell.execute_reply": "2024-06-15T14:10:37.425352Z"
        },
        "trusted": true,
        "id": "tpXULFffPm_Y",
        "outputId": "eb8762d9-7098-4aa9-d09c-6dc105b3d9c1",
        "colab": {
          "base_uri": "https://localhost:8080/",
          "height": 570
        }
      },
      "execution_count": 104,
      "outputs": [
        {
          "output_type": "display_data",
          "data": {
            "text/plain": [
              "<Figure size 1000x600 with 1 Axes>"
            ],
            "image/png": "[encoded data removed]"
          },
          "metadata": {}
        }
      ]
    },
    {
      "cell_type": "code",
      "source": [
        "\n",
        "ps=PorterStemmer()\n",
        "wst= WhitespaceTokenizer()\n",
        "\n",
        "##### 1. Converting text to lower case\n",
        "def lower_func (x):\n",
        "    return x.lower()\n",
        "\n",
        "\n",
        "##### 2. Removing Numbers from the text corpus\n",
        "def remove_number_func (x):\n",
        "    new=\"\"\n",
        "    for a in x:\n",
        "        if a.isdigit()==False:\n",
        "            new=new+a\n",
        "    return new\n",
        "\n",
        "\n",
        "##### 3. Removing punctuation\n",
        "def remove_punc_func(x):\n",
        "    new=''\n",
        "    for a in x:\n",
        "        if a not in string.punctuation:\n",
        "            new=new+a\n",
        "    return new\n",
        "\n",
        "##### 4. Removing special characters\n",
        "def remove_spec_char_func(x):\n",
        "    new=''\n",
        "    for a in x:\n",
        "        if (a.isalnum()==True) or (a==' '):\n",
        "            new=new+a\n",
        "    return(new)\n",
        "\n",
        "##### 5. Removing english stopwords\n",
        "def remove_stopwords(x):\n",
        "    new=[]\n",
        "    for a in x.split():\n",
        "        if a not in stopwords.words('english'):\n",
        "            new.append(a)\n",
        "    return \" \".join(new)\n",
        "\n",
        "##### 6. Stemming words to root words\n",
        "def stem_func(x):\n",
        "    wordlist = word_tokenize(x)\n",
        "    psstem = [ps.stem(a) for a in wordlist]\n",
        "    return ' '.join(psstem)\n",
        "\n",
        "##### 7. Removing extra whitespaces\n",
        "def remove_whitespace_func(x):\n",
        "    return(wst.tokenize(x))\n",
        "\n",
        "def compose(f, g):\n",
        "    return lambda x: f(g(x))\n",
        "\n",
        "final=compose(compose(compose(compose(compose(compose(remove_whitespace_func,stem_func),remove_stopwords),remove_spec_char_func),remove_punc_func),remove_number_func),lower_func)"
      ],
      "metadata": {
        "execution": {
          "iopub.status.busy": "2024-06-15T14:10:37.428713Z",
          "iopub.execute_input": "2024-06-15T14:10:37.429082Z",
          "iopub.status.idle": "2024-06-15T14:10:37.444412Z",
          "shell.execute_reply.started": "2024-06-15T14:10:37.429049Z",
          "shell.execute_reply": "2024-06-15T14:10:37.442864Z"
        },
        "trusted": true,
        "id": "No_hTxGtPm_Y"
      },
      "execution_count": 105,
      "outputs": []
    },
    {
      "cell_type": "code",
      "source": [
        "df_fake=df[df['category']==0]"
      ],
      "metadata": {
        "execution": {
          "iopub.status.busy": "2024-06-15T14:10:37.44608Z",
          "iopub.execute_input": "2024-06-15T14:10:37.446549Z",
          "iopub.status.idle": "2024-06-15T14:10:37.461936Z",
          "shell.execute_reply.started": "2024-06-15T14:10:37.446515Z",
          "shell.execute_reply": "2024-06-15T14:10:37.460594Z"
        },
        "trusted": true,
        "id": "kLkxvhz7Pm_Z"
      },
      "execution_count": 106,
      "outputs": []
    },
    {
      "cell_type": "code",
      "source": [
        "!pip install nltk\n",
        "import nltk\n",
        "nltk.download('stopwords')\n",
        "nltk.download('punkt')"
      ],
      "metadata": {
        "execution": {
          "iopub.status.busy": "2024-06-15T14:10:37.463357Z",
          "iopub.execute_input": "2024-06-15T14:10:37.463749Z",
          "iopub.status.idle": "2024-06-15T14:10:38.458813Z",
          "shell.execute_reply.started": "2024-06-15T14:10:37.463719Z",
          "shell.execute_reply": "2024-06-15T14:10:38.457685Z"
        },
        "trusted": true,
        "id": "of6hRAppPm_a",
        "outputId": "0f6c9f91-d275-4f81-a3de-5b9d64ff7470",
        "colab": {
          "base_uri": "https://localhost:8080/"
        }
      },
      "execution_count": 107,
      "outputs": [
        {
          "output_type": "stream",
          "name": "stdout",
          "text": [
            "Requirement already satisfied: nltk in /usr/local/lib/python3.10/dist-packages (3.8.1)\n",
            "Requirement already satisfied: click in /usr/local/lib/python3.10/dist-packages (from nltk) (8.1.7)\n",
            "Requirement already satisfied: joblib in /usr/local/lib/python3.10/dist-packages (from nltk) (1.4.2)\n",
            "Requirement already satisfied: regex>=2021.8.3 in /usr/local/lib/python3.10/dist-packages (from nltk) (2024.5.15)\n",
            "Requirement already satisfied: tqdm in /usr/local/lib/python3.10/dist-packages (from nltk) (4.66.4)\n"
          ]
        },
        {
          "output_type": "stream",
          "name": "stderr",
          "text": [
            "[nltk_data] Downloading package stopwords to /root/nltk_data...\n",
            "[nltk_data]   Package stopwords is already up-to-date!\n",
            "[nltk_data] Downloading package punkt to /root/nltk_data...\n",
            "[nltk_data]   Package punkt is already up-to-date!\n"
          ]
        },
        {
          "output_type": "execute_result",
          "data": {
            "text/plain": [
              "True"
            ]
          },
          "metadata": {},
          "execution_count": 107
        }
      ]
    },
    {
      "cell_type": "code",
      "source": [
        "cv1 = CountVectorizer(analyzer=final)\n",
        "cv1.fit(df_fake['title'])\n",
        "bow1=cv1.transform(df_fake['title'])"
      ],
      "metadata": {
        "id": "981M1IUCUINv"
      },
      "execution_count": 108,
      "outputs": []
    },
    {
      "cell_type": "code",
      "source": [
        "pd.DataFrame(bow1.todense()).shape"
      ],
      "metadata": {
        "execution": {
          "iopub.status.busy": "2024-06-15T14:10:38.460381Z",
          "iopub.execute_input": "2024-06-15T14:10:38.46077Z",
          "iopub.status.idle": "2024-06-15T14:10:38.469085Z",
          "shell.execute_reply.started": "2024-06-15T14:10:38.460737Z",
          "shell.execute_reply": "2024-06-15T14:10:38.467945Z"
        },
        "trusted": true,
        "id": "BiDcmsuUPm_a",
        "outputId": "f8ea4bf2-d836-4f7c-ae8d-fbb3484117f1",
        "colab": {
          "base_uri": "https://localhost:8080/"
        }
      },
      "execution_count": 109,
      "outputs": [
        {
          "output_type": "execute_result",
          "data": {
            "text/plain": [
              "(211, 872)"
            ]
          },
          "metadata": {},
          "execution_count": 109
        }
      ]
    },
    {
      "cell_type": "code",
      "source": [
        "new1=[]\n",
        "for x in range(0,872):\n",
        "    new1.append(cv1.get_feature_names_out()[x])"
      ],
      "metadata": {
        "execution": {
          "iopub.status.busy": "2024-06-15T14:10:38.471137Z",
          "iopub.execute_input": "2024-06-15T14:10:38.471601Z",
          "iopub.status.idle": "2024-06-15T14:10:38.757684Z",
          "shell.execute_reply.started": "2024-06-15T14:10:38.471555Z",
          "shell.execute_reply": "2024-06-15T14:10:38.756492Z"
        },
        "trusted": true,
        "id": "9WcACEfGPm_a"
      },
      "execution_count": 110,
      "outputs": []
    },
    {
      "cell_type": "code",
      "source": [
        "matrix1=pd.DataFrame(bow1.todense(),columns=new1)"
      ],
      "metadata": {
        "execution": {
          "iopub.status.busy": "2024-06-15T14:10:38.759339Z",
          "iopub.execute_input": "2024-06-15T14:10:38.759878Z",
          "iopub.status.idle": "2024-06-15T14:10:38.774758Z",
          "shell.execute_reply.started": "2024-06-15T14:10:38.759833Z",
          "shell.execute_reply": "2024-06-15T14:10:38.773452Z"
        },
        "trusted": true,
        "id": "LlU7s8WMPm_a"
      },
      "execution_count": 111,
      "outputs": []
    },
    {
      "cell_type": "code",
      "source": [
        "sm1=[]\n",
        "for x in new1:\n",
        "    sm1.append(matrix1[x].sum())"
      ],
      "metadata": {
        "execution": {
          "iopub.status.busy": "2024-06-15T14:10:38.776075Z",
          "iopub.execute_input": "2024-06-15T14:10:38.776721Z",
          "iopub.status.idle": "2024-06-15T14:10:38.847098Z",
          "shell.execute_reply.started": "2024-06-15T14:10:38.776686Z",
          "shell.execute_reply": "2024-06-15T14:10:38.845901Z"
        },
        "trusted": true,
        "id": "uHLVnRgxPm_b"
      },
      "execution_count": 112,
      "outputs": []
    },
    {
      "cell_type": "code",
      "source": [
        "trans1=matrix1.transpose()"
      ],
      "metadata": {
        "execution": {
          "iopub.status.busy": "2024-06-15T14:10:38.848519Z",
          "iopub.execute_input": "2024-06-15T14:10:38.848895Z",
          "iopub.status.idle": "2024-06-15T14:10:38.854838Z",
          "shell.execute_reply.started": "2024-06-15T14:10:38.848863Z",
          "shell.execute_reply": "2024-06-15T14:10:38.853696Z"
        },
        "trusted": true,
        "id": "VKFr772IPm_b"
      },
      "execution_count": 113,
      "outputs": []
    },
    {
      "cell_type": "code",
      "source": [
        "trans1['sum']=sm1"
      ],
      "metadata": {
        "execution": {
          "iopub.status.busy": "2024-06-15T14:10:38.856066Z",
          "iopub.execute_input": "2024-06-15T14:10:38.856443Z",
          "iopub.status.idle": "2024-06-15T14:10:38.872527Z",
          "shell.execute_reply.started": "2024-06-15T14:10:38.856405Z",
          "shell.execute_reply": "2024-06-15T14:10:38.871223Z"
        },
        "trusted": true,
        "id": "9wBUO_onPm_b"
      },
      "execution_count": 114,
      "outputs": []
    },
    {
      "cell_type": "code",
      "source": [
        "top1=trans1.sort_values(by='sum', ascending=False).head(40)"
      ],
      "metadata": {
        "execution": {
          "iopub.status.busy": "2024-06-15T14:10:38.874071Z",
          "iopub.execute_input": "2024-06-15T14:10:38.874477Z",
          "iopub.status.idle": "2024-06-15T14:10:38.885958Z",
          "shell.execute_reply.started": "2024-06-15T14:10:38.87443Z",
          "shell.execute_reply": "2024-06-15T14:10:38.88461Z"
        },
        "trusted": true,
        "id": "_RNfCD0NPm_b"
      },
      "execution_count": 115,
      "outputs": []
    },
    {
      "cell_type": "code",
      "source": [
        "df_real=df[df['category']==1]"
      ],
      "metadata": {
        "execution": {
          "iopub.status.busy": "2024-06-15T14:10:38.887435Z",
          "iopub.execute_input": "2024-06-15T14:10:38.887842Z",
          "iopub.status.idle": "2024-06-15T14:10:38.899917Z",
          "shell.execute_reply.started": "2024-06-15T14:10:38.88781Z",
          "shell.execute_reply": "2024-06-15T14:10:38.898554Z"
        },
        "trusted": true,
        "id": "COkNIYhBPm_b"
      },
      "execution_count": 116,
      "outputs": []
    },
    {
      "cell_type": "code",
      "source": [
        "cv2 = CountVectorizer(analyzer=final)\n",
        "cv2.fit(df_real['title'])\n",
        "bow2=cv2.transform(df_real['title'])"
      ],
      "metadata": {
        "execution": {
          "iopub.status.busy": "2024-06-15T14:10:38.901601Z",
          "iopub.execute_input": "2024-06-15T14:10:38.901977Z",
          "iopub.status.idle": "2024-06-15T14:10:39.84895Z",
          "shell.execute_reply.started": "2024-06-15T14:10:38.901946Z",
          "shell.execute_reply": "2024-06-15T14:10:39.84788Z"
        },
        "trusted": true,
        "id": "0bV_I-oVPm_b"
      },
      "execution_count": 117,
      "outputs": []
    },
    {
      "cell_type": "code",
      "source": [
        "pd.DataFrame(bow2.todense()).shape"
      ],
      "metadata": {
        "execution": {
          "iopub.status.busy": "2024-06-15T14:10:39.85083Z",
          "iopub.execute_input": "2024-06-15T14:10:39.851171Z",
          "iopub.status.idle": "2024-06-15T14:10:39.860481Z",
          "shell.execute_reply.started": "2024-06-15T14:10:39.851142Z",
          "shell.execute_reply": "2024-06-15T14:10:39.859056Z"
        },
        "trusted": true,
        "id": "-BoYAKTjPm_b",
        "outputId": "e9a179b5-eca1-46d9-ca29-f1ade401b51f",
        "colab": {
          "base_uri": "https://localhost:8080/"
        }
      },
      "execution_count": 118,
      "outputs": [
        {
          "output_type": "execute_result",
          "data": {
            "text/plain": [
              "(211, 835)"
            ]
          },
          "metadata": {},
          "execution_count": 118
        }
      ]
    },
    {
      "cell_type": "code",
      "source": [
        "new2=[]\n",
        "for x in range(0,835):\n",
        "    new2.append(cv2.get_feature_names_out()[x])"
      ],
      "metadata": {
        "execution": {
          "iopub.status.busy": "2024-06-15T14:10:39.862138Z",
          "iopub.execute_input": "2024-06-15T14:10:39.862669Z",
          "iopub.status.idle": "2024-06-15T14:10:40.138435Z",
          "shell.execute_reply.started": "2024-06-15T14:10:39.862636Z",
          "shell.execute_reply": "2024-06-15T14:10:40.137204Z"
        },
        "trusted": true,
        "id": "5lvYU80DPm_c"
      },
      "execution_count": 119,
      "outputs": []
    },
    {
      "cell_type": "code",
      "source": [
        "matrix2=pd.DataFrame(bow2.todense(),columns=new2)"
      ],
      "metadata": {
        "execution": {
          "iopub.status.busy": "2024-06-15T14:10:40.139978Z",
          "iopub.execute_input": "2024-06-15T14:10:40.140455Z",
          "iopub.status.idle": "2024-06-15T14:10:40.158296Z",
          "shell.execute_reply.started": "2024-06-15T14:10:40.140412Z",
          "shell.execute_reply": "2024-06-15T14:10:40.156955Z"
        },
        "trusted": true,
        "id": "LTkyPzguPm_d"
      },
      "execution_count": 120,
      "outputs": []
    },
    {
      "cell_type": "code",
      "source": [
        "sm2=[]\n",
        "for x in new2:\n",
        "    sm2.append(matrix2[x].sum())"
      ],
      "metadata": {
        "execution": {
          "iopub.status.busy": "2024-06-15T14:10:40.160465Z",
          "iopub.execute_input": "2024-06-15T14:10:40.160852Z",
          "iopub.status.idle": "2024-06-15T14:10:40.233168Z",
          "shell.execute_reply.started": "2024-06-15T14:10:40.160819Z",
          "shell.execute_reply": "2024-06-15T14:10:40.230254Z"
        },
        "trusted": true,
        "id": "sBNYKCG5Pm_d"
      },
      "execution_count": 121,
      "outputs": []
    },
    {
      "cell_type": "code",
      "source": [
        "trans2=matrix2.transpose()"
      ],
      "metadata": {
        "execution": {
          "iopub.status.busy": "2024-06-15T14:10:40.235144Z",
          "iopub.execute_input": "2024-06-15T14:10:40.235525Z",
          "iopub.status.idle": "2024-06-15T14:10:40.24105Z",
          "shell.execute_reply.started": "2024-06-15T14:10:40.235494Z",
          "shell.execute_reply": "2024-06-15T14:10:40.239797Z"
        },
        "trusted": true,
        "id": "mEuvASl1Pm_d"
      },
      "execution_count": 122,
      "outputs": []
    },
    {
      "cell_type": "code",
      "source": [
        "trans2['sum']=sm2"
      ],
      "metadata": {
        "execution": {
          "iopub.status.busy": "2024-06-15T14:10:40.242968Z",
          "iopub.execute_input": "2024-06-15T14:10:40.243448Z",
          "iopub.status.idle": "2024-06-15T14:10:40.261354Z",
          "shell.execute_reply.started": "2024-06-15T14:10:40.243404Z",
          "shell.execute_reply": "2024-06-15T14:10:40.25993Z"
        },
        "trusted": true,
        "id": "E-Qjju3gPm_e"
      },
      "execution_count": 123,
      "outputs": []
    },
    {
      "cell_type": "code",
      "source": [
        "top2=trans2.sort_values(by='sum', ascending=False).head(40)"
      ],
      "metadata": {
        "execution": {
          "iopub.status.busy": "2024-06-15T14:10:40.262825Z",
          "iopub.execute_input": "2024-06-15T14:10:40.26324Z",
          "iopub.status.idle": "2024-06-15T14:10:40.276793Z",
          "shell.execute_reply.started": "2024-06-15T14:10:40.263158Z",
          "shell.execute_reply": "2024-06-15T14:10:40.275573Z"
        },
        "trusted": true,
        "id": "rzcxPIOYPm_e"
      },
      "execution_count": 124,
      "outputs": []
    },
    {
      "cell_type": "code",
      "source": [
        "top1.drop(list(range(0,211)),axis=1,inplace=True)"
      ],
      "metadata": {
        "execution": {
          "iopub.status.busy": "2024-06-15T14:10:40.278451Z",
          "iopub.execute_input": "2024-06-15T14:10:40.278886Z",
          "iopub.status.idle": "2024-06-15T14:10:40.289535Z",
          "shell.execute_reply.started": "2024-06-15T14:10:40.278844Z",
          "shell.execute_reply": "2024-06-15T14:10:40.288173Z"
        },
        "trusted": true,
        "id": "rATYJWCsPm_e"
      },
      "execution_count": 125,
      "outputs": []
    },
    {
      "cell_type": "code",
      "source": [
        "top1['category']=[0]*40"
      ],
      "metadata": {
        "execution": {
          "iopub.status.busy": "2024-06-15T14:10:40.291347Z",
          "iopub.execute_input": "2024-06-15T14:10:40.292458Z",
          "iopub.status.idle": "2024-06-15T14:10:40.30248Z",
          "shell.execute_reply.started": "2024-06-15T14:10:40.292409Z",
          "shell.execute_reply": "2024-06-15T14:10:40.301133Z"
        },
        "trusted": true,
        "id": "SBQM7NPgPm_e"
      },
      "execution_count": 126,
      "outputs": []
    },
    {
      "cell_type": "code",
      "source": [
        "top2.drop(list(range(0,211)),axis=1,inplace=True)"
      ],
      "metadata": {
        "execution": {
          "iopub.status.busy": "2024-06-15T14:10:40.303973Z",
          "iopub.execute_input": "2024-06-15T14:10:40.304443Z",
          "iopub.status.idle": "2024-06-15T14:10:40.316776Z",
          "shell.execute_reply.started": "2024-06-15T14:10:40.304398Z",
          "shell.execute_reply": "2024-06-15T14:10:40.31497Z"
        },
        "trusted": true,
        "id": "V3rB6L_APm_k"
      },
      "execution_count": 127,
      "outputs": []
    },
    {
      "cell_type": "code",
      "source": [
        "top2['category']=[1]*40"
      ],
      "metadata": {
        "execution": {
          "iopub.status.busy": "2024-06-15T14:10:40.31877Z",
          "iopub.execute_input": "2024-06-15T14:10:40.31919Z",
          "iopub.status.idle": "2024-06-15T14:10:40.330333Z",
          "shell.execute_reply.started": "2024-06-15T14:10:40.319156Z",
          "shell.execute_reply": "2024-06-15T14:10:40.328826Z"
        },
        "trusted": true,
        "id": "GFAXoOEIPm_k"
      },
      "execution_count": 128,
      "outputs": []
    },
    {
      "cell_type": "code",
      "source": [
        "conc1=pd.concat([top1,top2])"
      ],
      "metadata": {
        "execution": {
          "iopub.status.busy": "2024-06-15T14:10:40.340162Z",
          "iopub.execute_input": "2024-06-15T14:10:40.341751Z",
          "iopub.status.idle": "2024-06-15T14:10:40.348287Z",
          "shell.execute_reply.started": "2024-06-15T14:10:40.341699Z",
          "shell.execute_reply": "2024-06-15T14:10:40.346481Z"
        },
        "trusted": true,
        "id": "09nqhkrTPm_k"
      },
      "execution_count": 129,
      "outputs": []
    },
    {
      "cell_type": "code",
      "source": [
        "plt.figure(figsize=(12,10))\n",
        "sns.barplot(y=conc1.index,x='sum',data=conc1,hue='category',palette='viridis')\n",
        "plt.xticks(rotation=90)\n",
        "plt.xlabel('Term Frequency of Words',fontsize=12)\n",
        "plt.ylabel('Top Words in Titles',fontsize=12)\n",
        "plt.legend(title='News Type',fontsize=12)\n",
        "plt.title('Frequency of Words in the Title of News',fontsize=20)\n",
        "plt.show()"
      ],
      "metadata": {
        "execution": {
          "iopub.status.busy": "2024-06-15T14:10:40.350393Z",
          "iopub.execute_input": "2024-06-15T14:10:40.350835Z",
          "iopub.status.idle": "2024-06-15T14:10:42.027979Z",
          "shell.execute_reply.started": "2024-06-15T14:10:40.350801Z",
          "shell.execute_reply": "2024-06-15T14:10:42.026617Z"
        },
        "trusted": true,
        "id": "NbuzuHBaPm_k",
        "outputId": "5751d84b-7c25-4601-83c4-9efec3cd7069",
        "colab": {
          "base_uri": "https://localhost:8080/",
          "height": 888
        }
      },
      "execution_count": 130,
      "outputs": [
        {
          "output_type": "display_data",
          "data": {
            "text/plain": [
              "<Figure size 1200x1000 with 1 Axes>"
            ],
            "image/png": "[encoded data removed]"
          },
          "metadata": {}
        }
      ]
    },
    {
      "cell_type": "code",
      "source": [
        "cv3 = CountVectorizer(analyzer=final)\n",
        "cv3.fit(df_fake['text'])\n",
        "bow3=cv3.transform(df_fake['text'])"
      ],
      "metadata": {
        "execution": {
          "iopub.status.busy": "2024-06-15T14:10:42.029743Z",
          "iopub.execute_input": "2024-06-15T14:10:42.030135Z",
          "iopub.status.idle": "2024-06-15T14:11:24.066428Z",
          "shell.execute_reply.started": "2024-06-15T14:10:42.0301Z",
          "shell.execute_reply": "2024-06-15T14:11:24.065111Z"
        },
        "trusted": true,
        "id": "nbFnym_dPm_l"
      },
      "execution_count": 131,
      "outputs": []
    },
    {
      "cell_type": "code",
      "source": [
        "pd.DataFrame(bow3.todense()).shape"
      ],
      "metadata": {
        "execution": {
          "iopub.status.busy": "2024-06-15T14:11:24.068024Z",
          "iopub.execute_input": "2024-06-15T14:11:24.068427Z",
          "iopub.status.idle": "2024-06-15T14:11:24.108452Z",
          "shell.execute_reply.started": "2024-06-15T14:11:24.068387Z",
          "shell.execute_reply": "2024-06-15T14:11:24.107101Z"
        },
        "trusted": true,
        "id": "C8sQtP09Pm_l",
        "outputId": "3f38b066-7d77-4e8a-ff99-e74118521892",
        "colab": {
          "base_uri": "https://localhost:8080/"
        }
      },
      "execution_count": 132,
      "outputs": [
        {
          "output_type": "execute_result",
          "data": {
            "text/plain": [
              "(211, 10086)"
            ]
          },
          "metadata": {},
          "execution_count": 132
        }
      ]
    },
    {
      "cell_type": "code",
      "source": [
        "new3=[]\n",
        "for x in range(0,10086):\n",
        "    new3.append(cv3.get_feature_names_out()[x])"
      ],
      "metadata": {
        "execution": {
          "iopub.status.busy": "2024-06-15T14:11:24.109954Z",
          "iopub.execute_input": "2024-06-15T14:11:24.110429Z",
          "iopub.status.idle": "2024-06-15T14:12:22.865551Z",
          "shell.execute_reply.started": "2024-06-15T14:11:24.110385Z",
          "shell.execute_reply": "2024-06-15T14:12:22.864238Z"
        },
        "trusted": true,
        "id": "DVBjfmymPm_l"
      },
      "execution_count": 133,
      "outputs": []
    },
    {
      "cell_type": "code",
      "source": [
        "matrix3=pd.DataFrame(bow3.todense(),columns=new3)"
      ],
      "metadata": {
        "execution": {
          "iopub.status.busy": "2024-06-15T14:12:22.866881Z",
          "iopub.execute_input": "2024-06-15T14:12:22.867219Z",
          "iopub.status.idle": "2024-06-15T14:12:22.899774Z",
          "shell.execute_reply.started": "2024-06-15T14:12:22.867189Z",
          "shell.execute_reply": "2024-06-15T14:12:22.898516Z"
        },
        "trusted": true,
        "id": "B8RJUcEfPm_l"
      },
      "execution_count": 134,
      "outputs": []
    },
    {
      "cell_type": "code",
      "source": [
        "sm3=[]\n",
        "for x in new3:\n",
        "    sm3.append(matrix3[x].sum())"
      ],
      "metadata": {
        "execution": {
          "iopub.status.busy": "2024-06-15T14:12:22.901983Z",
          "iopub.execute_input": "2024-06-15T14:12:22.902412Z"
        },
        "trusted": true,
        "id": "Z6CJ0AglPm_l"
      },
      "execution_count": 135,
      "outputs": []
    },
    {
      "cell_type": "code",
      "source": [
        "trans3=matrix3.transpose()"
      ],
      "metadata": {
        "trusted": true,
        "id": "A1eQZtWBPm_m"
      },
      "execution_count": 136,
      "outputs": []
    },
    {
      "cell_type": "code",
      "source": [
        "trans3['sum']=sm3"
      ],
      "metadata": {
        "trusted": true,
        "id": "5Bl2AkAmPm_m"
      },
      "execution_count": 137,
      "outputs": []
    },
    {
      "cell_type": "code",
      "source": [
        "top3=trans3.sort_values(by='sum', ascending=False).head(40)"
      ],
      "metadata": {
        "trusted": true,
        "id": "W_PiAcC4Pm_m"
      },
      "execution_count": 138,
      "outputs": []
    },
    {
      "cell_type": "code",
      "source": [
        "cv4 = CountVectorizer(analyzer=final)\n",
        "cv4.fit(df_real['text'])\n",
        "bow4=cv4.transform(df_real['text'])"
      ],
      "metadata": {
        "trusted": true,
        "id": "mKbqsUVSPm_m"
      },
      "execution_count": 139,
      "outputs": []
    },
    {
      "cell_type": "code",
      "source": [
        "pd.DataFrame(bow4.todense()).shape"
      ],
      "metadata": {
        "trusted": true,
        "id": "31oKeWagPm_m",
        "outputId": "676e1b1a-3d93-4164-8890-8bcc96d3d66b",
        "colab": {
          "base_uri": "https://localhost:8080/"
        }
      },
      "execution_count": 140,
      "outputs": [
        {
          "output_type": "execute_result",
          "data": {
            "text/plain": [
              "(211, 11100)"
            ]
          },
          "metadata": {},
          "execution_count": 140
        }
      ]
    },
    {
      "cell_type": "code",
      "source": [
        "new4=[]\n",
        "for x in range(0,11100):\n",
        "    new4.append(cv4.get_feature_names_out()[x])"
      ],
      "metadata": {
        "trusted": true,
        "id": "oHatpLjQPm_n"
      },
      "execution_count": 141,
      "outputs": []
    },
    {
      "cell_type": "code",
      "source": [
        "matrix4=pd.DataFrame(bow4.todense(),columns=new4)"
      ],
      "metadata": {
        "trusted": true,
        "id": "Gz_UnCM4Pm_n"
      },
      "execution_count": 142,
      "outputs": []
    },
    {
      "cell_type": "code",
      "source": [
        "sm4=[]\n",
        "for x in new4:\n",
        "    sm4.append(matrix4[x].sum())"
      ],
      "metadata": {
        "trusted": true,
        "id": "V_hkWfobPm_n"
      },
      "execution_count": 143,
      "outputs": []
    },
    {
      "cell_type": "code",
      "source": [
        "trans4=matrix4.transpose()"
      ],
      "metadata": {
        "trusted": true,
        "id": "VAh4aRlqPm_n"
      },
      "execution_count": 144,
      "outputs": []
    },
    {
      "cell_type": "code",
      "source": [
        "trans4['sum']=sm4"
      ],
      "metadata": {
        "trusted": true,
        "id": "6T4OnApzPm_n"
      },
      "execution_count": 145,
      "outputs": []
    },
    {
      "cell_type": "code",
      "source": [
        "top4=trans4.sort_values(by='sum', ascending=False).head(40)"
      ],
      "metadata": {
        "trusted": true,
        "id": "JY5DF8LnPm_n"
      },
      "execution_count": 146,
      "outputs": []
    },
    {
      "cell_type": "code",
      "source": [
        "top3.drop(list(range(0,211)),axis=1,inplace=True)"
      ],
      "metadata": {
        "trusted": true,
        "id": "nXS0e46hPm_o"
      },
      "execution_count": 147,
      "outputs": []
    },
    {
      "cell_type": "code",
      "source": [
        "top3['category']=[0]*40"
      ],
      "metadata": {
        "trusted": true,
        "id": "RXbstXfaPm_o"
      },
      "execution_count": 148,
      "outputs": []
    },
    {
      "cell_type": "code",
      "source": [
        "top4.drop(list(range(0,211)),axis=1,inplace=True)"
      ],
      "metadata": {
        "trusted": true,
        "id": "WIPbVEN1Pm_o"
      },
      "execution_count": 149,
      "outputs": []
    },
    {
      "cell_type": "code",
      "source": [
        "top4['category']=[1]*40"
      ],
      "metadata": {
        "trusted": true,
        "id": "c-v2qu0jPm_o"
      },
      "execution_count": 150,
      "outputs": []
    },
    {
      "cell_type": "code",
      "source": [
        "conc2=pd.concat([top3,top4])"
      ],
      "metadata": {
        "trusted": true,
        "id": "u8WtqSw1Pm_o"
      },
      "execution_count": 151,
      "outputs": []
    },
    {
      "cell_type": "code",
      "source": [
        "plt.figure(figsize=(12,10))\n",
        "sns.barplot(y=conc2.index,x='sum',data=conc2,hue='category',palette='viridis')\n",
        "plt.xticks(rotation=90)\n",
        "plt.xlabel('Term Frequency of Words',fontsize=12)\n",
        "plt.ylabel('Top Words in Texts',fontsize=12)\n",
        "plt.legend(title='News Type',fontsize=12,loc='lower right')\n",
        "plt.title('Frequency of Words in the Text of News',fontsize=20)\n",
        "plt.show()"
      ],
      "metadata": {
        "trusted": true,
        "id": "Ml_TghDVPm_o",
        "outputId": "4a1a46d9-b61d-458c-b9b7-cee85dd5493a",
        "colab": {
          "base_uri": "https://localhost:8080/",
          "height": 905
        }
      },
      "execution_count": 152,
      "outputs": [
        {
          "output_type": "display_data",
          "data": {
            "text/plain": [
              "<Figure size 1200x1000 with 1 Axes>"
            ],
            "image/png": "[encoded data removed]"
          },
          "metadata": {}
        }
      ]
    }
  ]
}